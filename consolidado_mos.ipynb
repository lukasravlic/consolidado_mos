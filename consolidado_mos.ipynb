{
 "cells": [
  {
   "cell_type": "code",
   "execution_count": 1,
   "metadata": {},
   "outputs": [],
   "source": [
    "import pandas as pd\n",
    "import os\n",
    "import datetime\n"
   ]
  },
  {
   "cell_type": "code",
   "execution_count": 2,
   "metadata": {},
   "outputs": [],
   "source": [
    "ruta_bases = \"C:/Users/lravlic/Inchcape/Planificación y Compras Chile - Documentos/Bases Indicadores en CSV 2024-12\"\n",
    "bases = os.listdir(\"C:/Users/lravlic/Inchcape/Planificación y Compras Chile - Documentos/Bases Indicadores en CSV 2024-12\")"
   ]
  },
  {
   "cell_type": "code",
   "execution_count": 3,
   "metadata": {},
   "outputs": [],
   "source": [
    "fc = pd.read_excel( \"C:/Users/lravlic/Inchcape/Planificación y Compras Chile - Documentos/Bases Indicadores en CSV 2024-12/Bases MOS/11.2024 S&OP ForecastColaboradoOEM_Mainstream_CicloDic24.xlsx\", sheet_name='Inbound', header=3)"
   ]
  },
  {
   "cell_type": "code",
   "execution_count": 4,
   "metadata": {},
   "outputs": [],
   "source": [
    "fc_premium = pd.read_excel(\"C:/Users/lravlic/Inchcape/Planificación y Compras Chile - Documentos/Bases Indicadores en CSV 2024-12/BASES MOS/11.2024 S&OP ForecastColaboradoOEM_Premium_CicloDic2024.xlsx\", sheet_name='Planificación Inbound',header =3)"
   ]
  },
  {
   "cell_type": "code",
   "execution_count": 5,
   "metadata": {},
   "outputs": [],
   "source": [
    "fc_axs = pd.read_excel(\"C:/Users/lravlic/Inchcape/Planificación y Compras Chile - Documentos/Bases Indicadores en CSV 2024-12/BASES MOS/11.2024 S&OP ForecastColaboradoAXS_CES&PDI_CicloNov2024.xlsx\", sheet_name='Inbound SP', header=3)"
   ]
  },
  {
   "cell_type": "code",
   "execution_count": 6,
   "metadata": {},
   "outputs": [],
   "source": [
    "fc_premium.rename(columns={'Último Eslabón':'Último Eslabón y Material SAP'}, inplace=True)"
   ]
  },
  {
   "cell_type": "code",
   "execution_count": 7,
   "metadata": {},
   "outputs": [],
   "source": [
    "fc_axs.rename(columns={'Último Eslabón':'Último Eslabón y Material SAP'}, inplace=True)"
   ]
  },
  {
   "cell_type": "code",
   "execution_count": 8,
   "metadata": {},
   "outputs": [
    {
     "data": {
      "text/plain": [
       "Familia\n",
       "OTROS                    34614\n",
       "COLISION                 20038\n",
       "ACCESORIOS                6186\n",
       "MECANICA                  4762\n",
       "LIFESTYLE / RIDER         4711\n",
       "MANTENCION / DESGASTE     1917\n",
       "MANTENCION                1174\n",
       "CAMPAÑA-HERRAMIENTAS       349\n",
       "BRECHA COSTO                21\n",
       "Name: count, dtype: int64"
      ]
     },
     "execution_count": 8,
     "metadata": {},
     "output_type": "execute_result"
    }
   ],
   "source": [
    "fc_premium['Familia'].value_counts()"
   ]
  },
  {
   "cell_type": "markdown",
   "metadata": {},
   "source": [
    "agregar a la venta y a la mara"
   ]
  },
  {
   "cell_type": "code",
   "execution_count": 94,
   "metadata": {},
   "outputs": [],
   "source": [
    "df_brecha = fc_premium[fc_premium['Familia']=='BRECHA COSTO'][['Último Eslabón y Material SAP','Marca']]"
   ]
  },
  {
   "cell_type": "code",
   "execution_count": 95,
   "metadata": {},
   "outputs": [
    {
     "data": {
      "text/html": [
       "<div>\n",
       "<style scoped>\n",
       "    .dataframe tbody tr th:only-of-type {\n",
       "        vertical-align: middle;\n",
       "    }\n",
       "\n",
       "    .dataframe tbody tr th {\n",
       "        vertical-align: top;\n",
       "    }\n",
       "\n",
       "    .dataframe thead th {\n",
       "        text-align: right;\n",
       "    }\n",
       "</style>\n",
       "<table border=\"1\" class=\"dataframe\">\n",
       "  <thead>\n",
       "    <tr style=\"text-align: right;\">\n",
       "      <th></th>\n",
       "      <th>Último Eslabón y Material SAP</th>\n",
       "      <th>Marca</th>\n",
       "    </tr>\n",
       "  </thead>\n",
       "  <tbody>\n",
       "    <tr>\n",
       "      <th>39706</th>\n",
       "      <td>BMW MotorradAC</td>\n",
       "      <td>BMW Motorrad</td>\n",
       "    </tr>\n",
       "    <tr>\n",
       "      <th>39707</th>\n",
       "      <td>BMW MotorradBC</td>\n",
       "      <td>BMW Motorrad</td>\n",
       "    </tr>\n",
       "    <tr>\n",
       "      <th>39708</th>\n",
       "      <td>BMW MotorradCC</td>\n",
       "      <td>BMW Motorrad</td>\n",
       "    </tr>\n",
       "    <tr>\n",
       "      <th>39710</th>\n",
       "      <td>BMWAC</td>\n",
       "      <td>BMW</td>\n",
       "    </tr>\n",
       "    <tr>\n",
       "      <th>39711</th>\n",
       "      <td>BMWBC</td>\n",
       "      <td>BMW</td>\n",
       "    </tr>\n",
       "    <tr>\n",
       "      <th>39712</th>\n",
       "      <td>BMWCC</td>\n",
       "      <td>BMW</td>\n",
       "    </tr>\n",
       "    <tr>\n",
       "      <th>54266</th>\n",
       "      <td>JaguarAC</td>\n",
       "      <td>Jaguar</td>\n",
       "    </tr>\n",
       "    <tr>\n",
       "      <th>54267</th>\n",
       "      <td>JaguarBC</td>\n",
       "      <td>Jaguar</td>\n",
       "    </tr>\n",
       "    <tr>\n",
       "      <th>54268</th>\n",
       "      <td>JaguarCC</td>\n",
       "      <td>Jaguar</td>\n",
       "    </tr>\n",
       "    <tr>\n",
       "      <th>55429</th>\n",
       "      <td>Land RoverAC</td>\n",
       "      <td>Land Rover</td>\n",
       "    </tr>\n",
       "    <tr>\n",
       "      <th>55430</th>\n",
       "      <td>Land RoverBC</td>\n",
       "      <td>Land Rover</td>\n",
       "    </tr>\n",
       "    <tr>\n",
       "      <th>55431</th>\n",
       "      <td>Land RoverCC</td>\n",
       "      <td>Land Rover</td>\n",
       "    </tr>\n",
       "    <tr>\n",
       "      <th>63322</th>\n",
       "      <td>MiniAC</td>\n",
       "      <td>Mini</td>\n",
       "    </tr>\n",
       "    <tr>\n",
       "      <th>63323</th>\n",
       "      <td>MiniBC</td>\n",
       "      <td>Mini</td>\n",
       "    </tr>\n",
       "    <tr>\n",
       "      <th>63324</th>\n",
       "      <td>MiniCC</td>\n",
       "      <td>Mini</td>\n",
       "    </tr>\n",
       "    <tr>\n",
       "      <th>67642</th>\n",
       "      <td>PorscheAC</td>\n",
       "      <td>Porsche</td>\n",
       "    </tr>\n",
       "    <tr>\n",
       "      <th>67643</th>\n",
       "      <td>PorscheBC</td>\n",
       "      <td>Porsche</td>\n",
       "    </tr>\n",
       "    <tr>\n",
       "      <th>67644</th>\n",
       "      <td>PorscheCC</td>\n",
       "      <td>Porsche</td>\n",
       "    </tr>\n",
       "    <tr>\n",
       "      <th>73244</th>\n",
       "      <td>VolvoAC</td>\n",
       "      <td>Volvo</td>\n",
       "    </tr>\n",
       "    <tr>\n",
       "      <th>73245</th>\n",
       "      <td>VolvoBC</td>\n",
       "      <td>Volvo</td>\n",
       "    </tr>\n",
       "    <tr>\n",
       "      <th>73246</th>\n",
       "      <td>VolvoCC</td>\n",
       "      <td>Volvo</td>\n",
       "    </tr>\n",
       "  </tbody>\n",
       "</table>\n",
       "</div>"
      ],
      "text/plain": [
       "      Último Eslabón y Material SAP         Marca\n",
       "39706                BMW MotorradAC  BMW Motorrad\n",
       "39707                BMW MotorradBC  BMW Motorrad\n",
       "39708                BMW MotorradCC  BMW Motorrad\n",
       "39710                         BMWAC           BMW\n",
       "39711                         BMWBC           BMW\n",
       "39712                         BMWCC           BMW\n",
       "54266                      JaguarAC        Jaguar\n",
       "54267                      JaguarBC        Jaguar\n",
       "54268                      JaguarCC        Jaguar\n",
       "55429                  Land RoverAC    Land Rover\n",
       "55430                  Land RoverBC    Land Rover\n",
       "55431                  Land RoverCC    Land Rover\n",
       "63322                        MiniAC          Mini\n",
       "63323                        MiniBC          Mini\n",
       "63324                        MiniCC          Mini\n",
       "67642                     PorscheAC       Porsche\n",
       "67643                     PorscheBC       Porsche\n",
       "67644                     PorscheCC       Porsche\n",
       "73244                       VolvoAC         Volvo\n",
       "73245                       VolvoBC         Volvo\n",
       "73246                       VolvoCC         Volvo"
      ]
     },
     "execution_count": 95,
     "metadata": {},
     "output_type": "execute_result"
    }
   ],
   "source": [
    "df_brecha"
   ]
  },
  {
   "cell_type": "code",
   "execution_count": 96,
   "metadata": {},
   "outputs": [],
   "source": [
    "df_brecha = df_brecha.assign(\n",
    "    **{' sept-24':0,\n",
    " ' oct-24':0,\n",
    " ' nov-24':0}\n",
    ")\n",
    "\n",
    "#df_brecha = df_brecha[['sept-24', 'oct-24', 'nov-24']]\n",
    "\n"
   ]
  },
  {
   "cell_type": "code",
   "execution_count": 97,
   "metadata": {},
   "outputs": [],
   "source": [
    "df_brecha.rename(columns={'Último Eslabón y Material SAP':'Último Eslabón'},inplace=True)"
   ]
  },
  {
   "cell_type": "code",
   "execution_count": 13,
   "metadata": {},
   "outputs": [],
   "source": [
    "fc_cols = ['Último Eslabón y Material SAP','Marca'] + [col for col in fc.columns if 'FC' in col and 'Prom' not in col]\n",
    "fc_cols_premium = ['Último Eslabón y Material SAP','Marca'] + [col for col in fc_premium.columns if 'FC' in col and 'Prom' not in col]\n"
   ]
  },
  {
   "cell_type": "code",
   "execution_count": 16,
   "metadata": {},
   "outputs": [
    {
     "data": {
      "text/plain": [
       "['Último Eslabón y Material SAP',\n",
       " 'Marca',\n",
       " 'FC dic-243',\n",
       " 'FC ene-253',\n",
       " 'FC feb-253',\n",
       " 'FC mar-253',\n",
       " 'FC abr-253',\n",
       " 'FC may-253',\n",
       " 'FC jun-253',\n",
       " 'FC jul-253',\n",
       " 'FC ago-253',\n",
       " 'FC sept-253',\n",
       " 'FC oct-253',\n",
       " 'FC nov-253']"
      ]
     },
     "execution_count": 16,
     "metadata": {},
     "output_type": "execute_result"
    }
   ],
   "source": [
    "fc_cols"
   ]
  },
  {
   "cell_type": "code",
   "execution_count": 14,
   "metadata": {},
   "outputs": [],
   "source": [
    "fc_axs_cols = ['Último Eslabón y Material SAP','Marca'] + [col for col in fc_axs.columns if 'Suma' in col and 'Prom' not in col]"
   ]
  },
  {
   "cell_type": "code",
   "execution_count": 15,
   "metadata": {},
   "outputs": [],
   "source": [
    "fc_axs_cols_prom = ['Último Eslabón y Material SAP', 'Marca','Suma de dic-243',\n",
    " 'Suma de ene-253',\n",
    " 'Suma de feb-253',]"
   ]
  },
  {
   "cell_type": "code",
   "execution_count": 17,
   "metadata": {},
   "outputs": [],
   "source": [
    "fc_cols_prom = fc_cols[:5]\n",
    "fc_cols_prom_premium = fc_cols_premium[:5]"
   ]
  },
  {
   "cell_type": "code",
   "execution_count": 20,
   "metadata": {},
   "outputs": [
    {
     "data": {
      "text/plain": [
       "['Último Eslabón y Material SAP',\n",
       " 'Marca',\n",
       " 'Suma de dic-243',\n",
       " 'Suma de ene-253',\n",
       " 'Suma de feb-253']"
      ]
     },
     "execution_count": 20,
     "metadata": {},
     "output_type": "execute_result"
    }
   ],
   "source": [
    "fc_axs_cols_prom"
   ]
  },
  {
   "cell_type": "code",
   "execution_count": 21,
   "metadata": {},
   "outputs": [],
   "source": [
    "df_fc_prom= fc[fc_cols_prom]\n",
    "df_fc_prom_premium= fc_premium[fc_cols_prom_premium]\n",
    "# df_fc_prom_axs= fc_axs[fc_axs_cols_prom]"
   ]
  },
  {
   "cell_type": "code",
   "execution_count": 22,
   "metadata": {},
   "outputs": [],
   "source": [
    "df_fc_prom_axs = fc_axs[fc_axs_cols_prom]"
   ]
  },
  {
   "cell_type": "code",
   "execution_count": 23,
   "metadata": {},
   "outputs": [
    {
     "name": "stderr",
     "output_type": "stream",
     "text": [
      "C:\\Users\\lravlic\\AppData\\Local\\Temp\\ipykernel_36092\\4261636165.py:1: SettingWithCopyWarning: \n",
      "A value is trying to be set on a copy of a slice from a DataFrame.\n",
      "Try using .loc[row_indexer,col_indexer] = value instead\n",
      "\n",
      "See the caveats in the documentation: https://pandas.pydata.org/pandas-docs/stable/user_guide/indexing.html#returning-a-view-versus-a-copy\n",
      "  df_fc_prom['fc_mean'] = df_fc_prom.select_dtypes(include='number').mean(axis=1)\n",
      "C:\\Users\\lravlic\\AppData\\Local\\Temp\\ipykernel_36092\\4261636165.py:2: SettingWithCopyWarning: \n",
      "A value is trying to be set on a copy of a slice from a DataFrame.\n",
      "Try using .loc[row_indexer,col_indexer] = value instead\n",
      "\n",
      "See the caveats in the documentation: https://pandas.pydata.org/pandas-docs/stable/user_guide/indexing.html#returning-a-view-versus-a-copy\n",
      "  df_fc_prom_premium['fc_mean'] = df_fc_prom_premium.select_dtypes(include='number').mean(axis=1)\n",
      "C:\\Users\\lravlic\\AppData\\Local\\Temp\\ipykernel_36092\\4261636165.py:3: SettingWithCopyWarning: \n",
      "A value is trying to be set on a copy of a slice from a DataFrame.\n",
      "Try using .loc[row_indexer,col_indexer] = value instead\n",
      "\n",
      "See the caveats in the documentation: https://pandas.pydata.org/pandas-docs/stable/user_guide/indexing.html#returning-a-view-versus-a-copy\n",
      "  df_fc_prom_axs['fc_mean'] = df_fc_prom_axs.select_dtypes(include='number').mean(axis=1)\n"
     ]
    }
   ],
   "source": [
    "df_fc_prom['fc_mean'] = df_fc_prom.select_dtypes(include='number').mean(axis=1)\n",
    "df_fc_prom_premium['fc_mean'] = df_fc_prom_premium.select_dtypes(include='number').mean(axis=1)\n",
    "df_fc_prom_axs['fc_mean'] = df_fc_prom_axs.select_dtypes(include='number').mean(axis=1)"
   ]
  },
  {
   "cell_type": "code",
   "execution_count": 24,
   "metadata": {},
   "outputs": [],
   "source": [
    "venta = pd.read_excel( \"C:/Users/lravlic/Inchcape/Planificación y Compras Chile - Documentos/Bases Indicadores en CSV 2024-12/BASES MOS/12.2024 BaseVentaOEM Sell In PBI.xlsx\", sheet_name='TD BV',header=3)\n",
    "\n"
   ]
  },
  {
   "cell_type": "code",
   "execution_count": 25,
   "metadata": {},
   "outputs": [],
   "source": [
    "venta_premium = pd.read_excel( \"C:/Users/lravlic/Inchcape/Planificación y Compras Chile - Documentos/Bases Indicadores en CSV 2024-12/BASES MOS/12.2024 BaseVentaOEM Sell In Premium - Consumos.xlsx\", sheet_name='TD Venta Sell In',header=2)"
   ]
  },
  {
   "cell_type": "code",
   "execution_count": 26,
   "metadata": {},
   "outputs": [],
   "source": [
    "venta_axs = pd.read_excel(\"C:/Users/lravlic/Inchcape/Planificación y Compras Chile - Documentos/Bases Indicadores en CSV 2024-12/BASES MOS/2024-11 BaseVenta_Sell-In_AXS.xlsx\", sheet_name=\"TD Ult. Eslabón\", header=4)"
   ]
  },
  {
   "cell_type": "code",
   "execution_count": 61,
   "metadata": {},
   "outputs": [],
   "source": [
    "venta_premium_cols = [[col for col in venta_premium.columns][1]] +[[col for col in venta_premium.columns][3]]+ [' sept-24',\n",
    " ' oct-24',\n",
    " ' nov-24']"
   ]
  },
  {
   "cell_type": "code",
   "execution_count": 34,
   "metadata": {},
   "outputs": [
    {
     "data": {
      "text/plain": [
       "['Unnamed: 0',\n",
       " 'ID',\n",
       " 'Último Eslabón',\n",
       " 'Nombre Sector',\n",
       " 'Canal V2',\n",
       " datetime.datetime(2021, 1, 1, 0, 0),\n",
       " datetime.datetime(2021, 2, 1, 0, 0),\n",
       " datetime.datetime(2021, 3, 1, 0, 0),\n",
       " datetime.datetime(2021, 4, 1, 0, 0),\n",
       " datetime.datetime(2021, 5, 1, 0, 0),\n",
       " datetime.datetime(2021, 6, 1, 0, 0),\n",
       " datetime.datetime(2021, 7, 1, 0, 0),\n",
       " datetime.datetime(2021, 8, 1, 0, 0),\n",
       " datetime.datetime(2021, 9, 1, 0, 0),\n",
       " datetime.datetime(2021, 10, 1, 0, 0),\n",
       " datetime.datetime(2021, 11, 1, 0, 0),\n",
       " datetime.datetime(2021, 12, 1, 0, 0),\n",
       " datetime.datetime(2022, 1, 1, 0, 0),\n",
       " datetime.datetime(2022, 2, 1, 0, 0),\n",
       " datetime.datetime(2022, 3, 1, 0, 0),\n",
       " datetime.datetime(2022, 4, 1, 0, 0),\n",
       " datetime.datetime(2022, 5, 1, 0, 0),\n",
       " datetime.datetime(2022, 6, 1, 0, 0),\n",
       " datetime.datetime(2022, 7, 1, 0, 0),\n",
       " datetime.datetime(2022, 8, 1, 0, 0),\n",
       " datetime.datetime(2022, 9, 1, 0, 0),\n",
       " datetime.datetime(2022, 10, 1, 0, 0),\n",
       " datetime.datetime(2022, 11, 1, 0, 0),\n",
       " datetime.datetime(2022, 12, 1, 0, 0),\n",
       " datetime.datetime(2023, 1, 1, 0, 0),\n",
       " datetime.datetime(2023, 2, 1, 0, 0),\n",
       " datetime.datetime(2023, 3, 1, 0, 0),\n",
       " datetime.datetime(2023, 4, 1, 0, 0),\n",
       " datetime.datetime(2023, 5, 1, 0, 0),\n",
       " datetime.datetime(2023, 6, 1, 0, 0),\n",
       " datetime.datetime(2023, 7, 1, 0, 0),\n",
       " datetime.datetime(2023, 8, 1, 0, 0),\n",
       " datetime.datetime(2023, 9, 1, 0, 0),\n",
       " datetime.datetime(2023, 10, 1, 0, 0),\n",
       " datetime.datetime(2023, 11, 1, 0, 0),\n",
       " datetime.datetime(2023, 12, 1, 0, 0),\n",
       " datetime.datetime(2024, 1, 1, 0, 0),\n",
       " datetime.datetime(2024, 2, 1, 0, 0),\n",
       " datetime.datetime(2024, 3, 1, 0, 0),\n",
       " datetime.datetime(2024, 4, 1, 0, 0),\n",
       " datetime.datetime(2024, 5, 1, 0, 0),\n",
       " datetime.datetime(2024, 6, 1, 0, 0),\n",
       " datetime.datetime(2024, 7, 1, 0, 0),\n",
       " datetime.datetime(2024, 8, 1, 0, 0),\n",
       " datetime.datetime(2024, 9, 1, 0, 0),\n",
       " datetime.datetime(2024, 10, 1, 0, 0),\n",
       " 'Grand Total',\n",
       " 'Unnamed: 52',\n",
       " 'ID.1',\n",
       " 'Último Eslabón.1',\n",
       " 'Canal V2.1',\n",
       " '2021-01-01 00:00:00.1',\n",
       " '2021-02-01 00:00:00.1',\n",
       " '2021-03-01 00:00:00.1',\n",
       " '2021-04-01 00:00:00.1',\n",
       " '2021-05-01 00:00:00.1',\n",
       " '2021-06-01 00:00:00.1',\n",
       " '2021-07-01 00:00:00.1',\n",
       " '2021-08-01 00:00:00.1',\n",
       " '2021-09-01 00:00:00.1',\n",
       " '2021-10-01 00:00:00.1',\n",
       " '2021-11-01 00:00:00.1',\n",
       " '2021-12-01 00:00:00.1',\n",
       " '2022-01-01 00:00:00.1',\n",
       " '2022-02-01 00:00:00.1',\n",
       " '2022-03-01 00:00:00.1',\n",
       " '2022-04-01 00:00:00.1',\n",
       " '2022-05-01 00:00:00.1',\n",
       " '2022-06-01 00:00:00.1',\n",
       " '2022-07-01 00:00:00.1',\n",
       " '2022-08-01 00:00:00.1',\n",
       " '2022-09-01 00:00:00.1',\n",
       " '2022-10-01 00:00:00.1',\n",
       " '2022-11-01 00:00:00.1',\n",
       " '2022-12-01 00:00:00.1',\n",
       " '2023-01-01 00:00:00.1',\n",
       " '2023-02-01 00:00:00.1',\n",
       " '2023-03-01 00:00:00.1',\n",
       " '2023-04-01 00:00:00.1',\n",
       " '2023-05-01 00:00:00.1',\n",
       " '2023-06-01 00:00:00.1',\n",
       " '2023-07-01 00:00:00.1',\n",
       " '2023-08-01 00:00:00.1',\n",
       " '2023-09-01 00:00:00.1',\n",
       " '2023-10-01 00:00:00.1',\n",
       " '2023-11-01 00:00:00.1',\n",
       " '2023-12-01 00:00:00.1',\n",
       " '2024-01-01 00:00:00.1',\n",
       " '2024-02-01 00:00:00.1',\n",
       " '2024-03-01 00:00:00.1',\n",
       " '2024-04-01 00:00:00.1',\n",
       " '2024-05-01 00:00:00.1',\n",
       " '2024-06-01 00:00:00.1',\n",
       " '2024-07-01 00:00:00.1',\n",
       " '2024-08-01 00:00:00.1',\n",
       " '2024-09-01 00:00:00.1',\n",
       " '2024-10-01 00:00:00.1']"
      ]
     },
     "execution_count": 34,
     "metadata": {},
     "output_type": "execute_result"
    }
   ],
   "source": [
    "venta_axs.columns.to_list()"
   ]
  },
  {
   "cell_type": "code",
   "execution_count": 49,
   "metadata": {},
   "outputs": [],
   "source": [
    "#ventas_cols = [[col for col in venta.columns][1]] +[[col for col in venta.columns][2]]+ [col for col in venta.columns][-5:-2]\n",
    "ventas_axs_cols = [venta_axs.columns[2], venta_axs.columns[3]] + list(venta_axs.columns[48:51])\n"
   ]
  },
  {
   "cell_type": "code",
   "execution_count": 53,
   "metadata": {},
   "outputs": [
    {
     "data": {
      "text/plain": [
       "['Unnamed: 0',\n",
       " 'ID',\n",
       " 'Último Eslabón',\n",
       " 'Nombre Sector',\n",
       " 'Canal V2',\n",
       " datetime.datetime(2021, 1, 1, 0, 0),\n",
       " datetime.datetime(2021, 2, 1, 0, 0),\n",
       " datetime.datetime(2021, 3, 1, 0, 0),\n",
       " datetime.datetime(2021, 4, 1, 0, 0),\n",
       " datetime.datetime(2021, 5, 1, 0, 0),\n",
       " datetime.datetime(2021, 6, 1, 0, 0),\n",
       " datetime.datetime(2021, 7, 1, 0, 0),\n",
       " datetime.datetime(2021, 8, 1, 0, 0),\n",
       " datetime.datetime(2021, 9, 1, 0, 0),\n",
       " datetime.datetime(2021, 10, 1, 0, 0),\n",
       " datetime.datetime(2021, 11, 1, 0, 0),\n",
       " datetime.datetime(2021, 12, 1, 0, 0),\n",
       " datetime.datetime(2022, 1, 1, 0, 0),\n",
       " datetime.datetime(2022, 2, 1, 0, 0),\n",
       " datetime.datetime(2022, 3, 1, 0, 0),\n",
       " datetime.datetime(2022, 4, 1, 0, 0),\n",
       " datetime.datetime(2022, 5, 1, 0, 0),\n",
       " datetime.datetime(2022, 6, 1, 0, 0),\n",
       " datetime.datetime(2022, 7, 1, 0, 0),\n",
       " datetime.datetime(2022, 8, 1, 0, 0),\n",
       " datetime.datetime(2022, 9, 1, 0, 0),\n",
       " datetime.datetime(2022, 10, 1, 0, 0),\n",
       " datetime.datetime(2022, 11, 1, 0, 0),\n",
       " datetime.datetime(2022, 12, 1, 0, 0),\n",
       " datetime.datetime(2023, 1, 1, 0, 0),\n",
       " datetime.datetime(2023, 2, 1, 0, 0),\n",
       " datetime.datetime(2023, 3, 1, 0, 0),\n",
       " datetime.datetime(2023, 4, 1, 0, 0),\n",
       " datetime.datetime(2023, 5, 1, 0, 0),\n",
       " datetime.datetime(2023, 6, 1, 0, 0),\n",
       " datetime.datetime(2023, 7, 1, 0, 0),\n",
       " datetime.datetime(2023, 8, 1, 0, 0),\n",
       " datetime.datetime(2023, 9, 1, 0, 0),\n",
       " datetime.datetime(2023, 10, 1, 0, 0),\n",
       " datetime.datetime(2023, 11, 1, 0, 0),\n",
       " datetime.datetime(2023, 12, 1, 0, 0),\n",
       " datetime.datetime(2024, 1, 1, 0, 0),\n",
       " datetime.datetime(2024, 2, 1, 0, 0),\n",
       " datetime.datetime(2024, 3, 1, 0, 0),\n",
       " datetime.datetime(2024, 4, 1, 0, 0),\n",
       " datetime.datetime(2024, 5, 1, 0, 0),\n",
       " datetime.datetime(2024, 6, 1, 0, 0),\n",
       " datetime.datetime(2024, 7, 1, 0, 0),\n",
       " datetime.datetime(2024, 8, 1, 0, 0),\n",
       " datetime.datetime(2024, 9, 1, 0, 0),\n",
       " datetime.datetime(2024, 10, 1, 0, 0),\n",
       " 'Grand Total',\n",
       " 'Unnamed: 52',\n",
       " 'ID.1',\n",
       " 'Último Eslabón.1',\n",
       " 'Canal V2.1',\n",
       " '2021-01-01 00:00:00.1',\n",
       " '2021-02-01 00:00:00.1',\n",
       " '2021-03-01 00:00:00.1',\n",
       " '2021-04-01 00:00:00.1',\n",
       " '2021-05-01 00:00:00.1',\n",
       " '2021-06-01 00:00:00.1',\n",
       " '2021-07-01 00:00:00.1',\n",
       " '2021-08-01 00:00:00.1',\n",
       " '2021-09-01 00:00:00.1',\n",
       " '2021-10-01 00:00:00.1',\n",
       " '2021-11-01 00:00:00.1',\n",
       " '2021-12-01 00:00:00.1',\n",
       " '2022-01-01 00:00:00.1',\n",
       " '2022-02-01 00:00:00.1',\n",
       " '2022-03-01 00:00:00.1',\n",
       " '2022-04-01 00:00:00.1',\n",
       " '2022-05-01 00:00:00.1',\n",
       " '2022-06-01 00:00:00.1',\n",
       " '2022-07-01 00:00:00.1',\n",
       " '2022-08-01 00:00:00.1',\n",
       " '2022-09-01 00:00:00.1',\n",
       " '2022-10-01 00:00:00.1',\n",
       " '2022-11-01 00:00:00.1',\n",
       " '2022-12-01 00:00:00.1',\n",
       " '2023-01-01 00:00:00.1',\n",
       " '2023-02-01 00:00:00.1',\n",
       " '2023-03-01 00:00:00.1',\n",
       " '2023-04-01 00:00:00.1',\n",
       " '2023-05-01 00:00:00.1',\n",
       " '2023-06-01 00:00:00.1',\n",
       " '2023-07-01 00:00:00.1',\n",
       " '2023-08-01 00:00:00.1',\n",
       " '2023-09-01 00:00:00.1',\n",
       " '2023-10-01 00:00:00.1',\n",
       " '2023-11-01 00:00:00.1',\n",
       " '2023-12-01 00:00:00.1',\n",
       " '2024-01-01 00:00:00.1',\n",
       " '2024-02-01 00:00:00.1',\n",
       " '2024-03-01 00:00:00.1',\n",
       " '2024-04-01 00:00:00.1',\n",
       " '2024-05-01 00:00:00.1',\n",
       " '2024-06-01 00:00:00.1',\n",
       " '2024-07-01 00:00:00.1',\n",
       " '2024-08-01 00:00:00.1',\n",
       " '2024-09-01 00:00:00.1',\n",
       " '2024-10-01 00:00:00.1']"
      ]
     },
     "execution_count": 53,
     "metadata": {},
     "output_type": "execute_result"
    }
   ],
   "source": [
    "venta_axs.columns.to_list()"
   ]
  },
  {
   "cell_type": "code",
   "execution_count": 50,
   "metadata": {},
   "outputs": [
    {
     "data": {
      "text/plain": [
       "['Último Eslabón',\n",
       " 'Nombre Sector',\n",
       " datetime.datetime(2024, 8, 1, 0, 0),\n",
       " datetime.datetime(2024, 9, 1, 0, 0),\n",
       " datetime.datetime(2024, 10, 1, 0, 0)]"
      ]
     },
     "execution_count": 50,
     "metadata": {},
     "output_type": "execute_result"
    }
   ],
   "source": [
    "ventas_axs_cols"
   ]
  },
  {
   "cell_type": "code",
   "execution_count": 51,
   "metadata": {},
   "outputs": [],
   "source": [
    "df_prom_venta_axs = venta_axs[ventas_axs_cols]"
   ]
  },
  {
   "cell_type": "code",
   "execution_count": 103,
   "metadata": {},
   "outputs": [
    {
     "name": "stderr",
     "output_type": "stream",
     "text": [
      "C:\\Users\\lravlic\\AppData\\Local\\Temp\\ipykernel_36092\\1056915490.py:1: SettingWithCopyWarning: \n",
      "A value is trying to be set on a copy of a slice from a DataFrame\n",
      "\n",
      "See the caveats in the documentation: https://pandas.pydata.org/pandas-docs/stable/user_guide/indexing.html#returning-a-view-versus-a-copy\n",
      "  df_prom_venta_axs.rename(columns={'datetime.datetime(2024, 8, 1, 0, 0)':'Suma de ago-24',\n"
     ]
    }
   ],
   "source": [
    "df_prom_venta_axs.rename(columns={'datetime.datetime(2024, 8, 1, 0, 0)':'Suma de ago-24',\n",
    " 'datetime.datetime(2024, 9, 1, 0, 0)':'Suma de sept-24',\n",
    " 'datetime.datetime(2024, 10, 1, 0, 0)':'Suma de oct-24'}, inplace=True)\n"
   ]
  },
  {
   "cell_type": "code",
   "execution_count": 60,
   "metadata": {},
   "outputs": [
    {
     "data": {
      "text/plain": [
       "['Unnamed: 0',\n",
       " 'Último Eslabón',\n",
       " 'DESCRIPCIÓN MATERIAL',\n",
       " 'Marca',\n",
       " 'Familia',\n",
       " 'Legado',\n",
       " ' ago-21',\n",
       " ' sept-21',\n",
       " ' oct-21',\n",
       " ' nov-21',\n",
       " ' dic-21',\n",
       " ' ene-22',\n",
       " ' feb-22',\n",
       " ' mar-22',\n",
       " ' abr-22',\n",
       " ' may-22',\n",
       " ' jun-22',\n",
       " ' jul-22',\n",
       " ' ago-22',\n",
       " ' sept-22',\n",
       " ' oct-22',\n",
       " ' nov-22',\n",
       " ' dic-22',\n",
       " ' ene-23',\n",
       " ' feb-23',\n",
       " ' mar-23',\n",
       " ' abr-23',\n",
       " ' may-23',\n",
       " ' jun-23',\n",
       " ' jul-23',\n",
       " ' ago-23',\n",
       " ' sept-23',\n",
       " ' oct-23',\n",
       " ' nov-23',\n",
       " ' dic-23',\n",
       " ' ene-24',\n",
       " ' feb-24',\n",
       " ' mar-24',\n",
       " ' abr-24',\n",
       " ' may-24',\n",
       " ' jun-24',\n",
       " ' jul-24',\n",
       " ' ago-24',\n",
       " ' sept-24',\n",
       " ' oct-24',\n",
       " ' nov-24',\n",
       " 'Unnamed: 46',\n",
       " 'Unnamed: 47',\n",
       " 'Unnamed: 48',\n",
       " 'Unnamed: 49',\n",
       " 'Unnamed: 50',\n",
       " 'Unnamed: 51',\n",
       " 'Unnamed: 52',\n",
       " 'Unnamed: 53',\n",
       " 'Unnamed: 54',\n",
       " 'Unnamed: 55',\n",
       " 'Unnamed: 56',\n",
       " 'Unnamed: 57',\n",
       " 'Unnamed: 58',\n",
       " 'Unnamed: 59',\n",
       " 'Unnamed: 60',\n",
       " 'Unnamed: 61',\n",
       " 'Unnamed: 62',\n",
       " 'Unnamed: 63',\n",
       " 'Unnamed: 64',\n",
       " 'Unnamed: 65',\n",
       " 'Unnamed: 66',\n",
       " 'Unnamed: 67',\n",
       " 'Unnamed: 68',\n",
       " 'Unnamed: 69',\n",
       " 'Unnamed: 70',\n",
       " 'Unnamed: 71',\n",
       " 'Unnamed: 72',\n",
       " 'Unnamed: 73',\n",
       " 'Unnamed: 74',\n",
       " 'Unnamed: 75',\n",
       " 'ID',\n",
       " 'ID V2',\n",
       " 'Último Eslabón.1',\n",
       " 'Descripción Material',\n",
       " 'Sector MU',\n",
       " 'Nombre Sector MU',\n",
       " 'Familia.1',\n",
       " 'Canal',\n",
       " 'Canal V2',\n",
       " 'Suma de abr-19',\n",
       " 'Suma de may-19',\n",
       " 'Suma de jun-19',\n",
       " 'Suma de jul-19',\n",
       " 'Suma de ago-19',\n",
       " 'Suma de sept-19',\n",
       " 'Suma de oct-19',\n",
       " 'Suma de nov-19',\n",
       " 'Suma de dic-19',\n",
       " 'Suma de ene-20',\n",
       " 'Suma de feb-20',\n",
       " 'Suma de mar-20',\n",
       " 'Suma de abr-20',\n",
       " 'Suma de may-20',\n",
       " 'Suma de jun-20',\n",
       " 'Suma de jul-20',\n",
       " 'Suma de ago-20',\n",
       " 'Suma de sept-20',\n",
       " 'Suma de oct-20',\n",
       " 'Suma de nov-20',\n",
       " 'Suma de dic-20',\n",
       " 'Suma de ene-21',\n",
       " 'Suma de feb-21',\n",
       " 'Suma de mar-21',\n",
       " 'Suma de abr-21',\n",
       " 'Suma de may-21',\n",
       " 'Suma de jun-21',\n",
       " 'Suma de jul-21',\n",
       " 'Suma de ago-21',\n",
       " 'Suma de sept-21',\n",
       " 'Suma de oct-21',\n",
       " 'Suma de nov-21',\n",
       " 'Suma de dic-21',\n",
       " 'Suma de ene-22',\n",
       " 'Suma de feb-22',\n",
       " 'Suma de mar-22',\n",
       " 'Suma de abr-22',\n",
       " 'Suma de may-22',\n",
       " 'Suma de jun-22',\n",
       " 'Suma de jul-22',\n",
       " 'Suma de ago-22',\n",
       " 'Suma de sept-22',\n",
       " 'Suma de oct-22',\n",
       " 'Suma de nov-22',\n",
       " 'Suma de dic-22',\n",
       " 'Suma de ene-23',\n",
       " 'Suma de feb-23',\n",
       " 'Suma de mar-23',\n",
       " 'Suma de abr-23',\n",
       " 'Suma de may-23',\n",
       " 'Suma de jun-23',\n",
       " 'Suma de jul-23',\n",
       " 'Suma de ago-23',\n",
       " 'Suma de sept-23',\n",
       " 'Suma de oct-23',\n",
       " 'Suma de nov-23',\n",
       " 'Suma de dic-23',\n",
       " 'Suma de ene-24',\n",
       " 'Suma de feb-24',\n",
       " 'Suma de mar-24',\n",
       " 'Suma de abr-24',\n",
       " 'Suma de may-24',\n",
       " 'Suma de jun-24']"
      ]
     },
     "execution_count": 60,
     "metadata": {},
     "output_type": "execute_result"
    }
   ],
   "source": [
    "venta_premium.columns.to_list()"
   ]
  },
  {
   "cell_type": "code",
   "execution_count": 64,
   "metadata": {},
   "outputs": [
    {
     "data": {
      "text/plain": [
       "['Unnamed: 0',\n",
       " 'Último Eslabón',\n",
       " 'DESCRIPCIÓN MATERIAL',\n",
       " 'Marca',\n",
       " 'Familia',\n",
       " 'Legado',\n",
       " ' ago-21',\n",
       " ' sept-21',\n",
       " ' oct-21',\n",
       " ' nov-21',\n",
       " ' dic-21',\n",
       " ' ene-22',\n",
       " ' feb-22',\n",
       " ' mar-22',\n",
       " ' abr-22',\n",
       " ' may-22',\n",
       " ' jun-22',\n",
       " ' jul-22',\n",
       " ' ago-22',\n",
       " ' sept-22',\n",
       " ' oct-22',\n",
       " ' nov-22',\n",
       " ' dic-22',\n",
       " ' ene-23',\n",
       " ' feb-23',\n",
       " ' mar-23',\n",
       " ' abr-23',\n",
       " ' may-23',\n",
       " ' jun-23',\n",
       " ' jul-23',\n",
       " ' ago-23',\n",
       " ' sept-23',\n",
       " ' oct-23',\n",
       " ' nov-23',\n",
       " ' dic-23',\n",
       " ' ene-24',\n",
       " ' feb-24',\n",
       " ' mar-24',\n",
       " ' abr-24',\n",
       " ' may-24',\n",
       " ' jun-24',\n",
       " ' jul-24',\n",
       " ' ago-24',\n",
       " ' sept-24',\n",
       " ' oct-24',\n",
       " ' nov-24',\n",
       " 'Unnamed: 46',\n",
       " 'Unnamed: 47',\n",
       " 'Unnamed: 48',\n",
       " 'Unnamed: 49',\n",
       " 'Unnamed: 50',\n",
       " 'Unnamed: 51',\n",
       " 'Unnamed: 52',\n",
       " 'Unnamed: 53',\n",
       " 'Unnamed: 54',\n",
       " 'Unnamed: 55',\n",
       " 'Unnamed: 56',\n",
       " 'Unnamed: 57',\n",
       " 'Unnamed: 58',\n",
       " 'Unnamed: 59',\n",
       " 'Unnamed: 60',\n",
       " 'Unnamed: 61',\n",
       " 'Unnamed: 62',\n",
       " 'Unnamed: 63',\n",
       " 'Unnamed: 64',\n",
       " 'Unnamed: 65',\n",
       " 'Unnamed: 66',\n",
       " 'Unnamed: 67',\n",
       " 'Unnamed: 68',\n",
       " 'Unnamed: 69',\n",
       " 'Unnamed: 70',\n",
       " 'Unnamed: 71',\n",
       " 'Unnamed: 72',\n",
       " 'Unnamed: 73',\n",
       " 'Unnamed: 74',\n",
       " 'Unnamed: 75',\n",
       " 'ID',\n",
       " 'ID V2',\n",
       " 'Último Eslabón.1',\n",
       " 'Descripción Material',\n",
       " 'Sector MU',\n",
       " 'Nombre Sector MU',\n",
       " 'Familia.1',\n",
       " 'Canal',\n",
       " 'Canal V2',\n",
       " 'Suma de abr-19',\n",
       " 'Suma de may-19',\n",
       " 'Suma de jun-19',\n",
       " 'Suma de jul-19',\n",
       " 'Suma de ago-19',\n",
       " 'Suma de sept-19',\n",
       " 'Suma de oct-19',\n",
       " 'Suma de nov-19',\n",
       " 'Suma de dic-19',\n",
       " 'Suma de ene-20',\n",
       " 'Suma de feb-20',\n",
       " 'Suma de mar-20',\n",
       " 'Suma de abr-20',\n",
       " 'Suma de may-20',\n",
       " 'Suma de jun-20',\n",
       " 'Suma de jul-20',\n",
       " 'Suma de ago-20',\n",
       " 'Suma de sept-20',\n",
       " 'Suma de oct-20',\n",
       " 'Suma de nov-20',\n",
       " 'Suma de dic-20',\n",
       " 'Suma de ene-21',\n",
       " 'Suma de feb-21',\n",
       " 'Suma de mar-21',\n",
       " 'Suma de abr-21',\n",
       " 'Suma de may-21',\n",
       " 'Suma de jun-21',\n",
       " 'Suma de jul-21',\n",
       " 'Suma de ago-21',\n",
       " 'Suma de sept-21',\n",
       " 'Suma de oct-21',\n",
       " 'Suma de nov-21',\n",
       " 'Suma de dic-21',\n",
       " 'Suma de ene-22',\n",
       " 'Suma de feb-22',\n",
       " 'Suma de mar-22',\n",
       " 'Suma de abr-22',\n",
       " 'Suma de may-22',\n",
       " 'Suma de jun-22',\n",
       " 'Suma de jul-22',\n",
       " 'Suma de ago-22',\n",
       " 'Suma de sept-22',\n",
       " 'Suma de oct-22',\n",
       " 'Suma de nov-22',\n",
       " 'Suma de dic-22',\n",
       " 'Suma de ene-23',\n",
       " 'Suma de feb-23',\n",
       " 'Suma de mar-23',\n",
       " 'Suma de abr-23',\n",
       " 'Suma de may-23',\n",
       " 'Suma de jun-23',\n",
       " 'Suma de jul-23',\n",
       " 'Suma de ago-23',\n",
       " 'Suma de sept-23',\n",
       " 'Suma de oct-23',\n",
       " 'Suma de nov-23',\n",
       " 'Suma de dic-23',\n",
       " 'Suma de ene-24',\n",
       " 'Suma de feb-24',\n",
       " 'Suma de mar-24',\n",
       " 'Suma de abr-24',\n",
       " 'Suma de may-24',\n",
       " 'Suma de jun-24']"
      ]
     },
     "execution_count": 64,
     "metadata": {},
     "output_type": "execute_result"
    }
   ],
   "source": [
    "venta_premium.columns.to_list()"
   ]
  },
  {
   "cell_type": "code",
   "execution_count": 98,
   "metadata": {},
   "outputs": [
    {
     "data": {
      "text/plain": [
       "['Último Eslabón', 'Marca', ' sept-24', ' oct-24', ' nov-24']"
      ]
     },
     "execution_count": 98,
     "metadata": {},
     "output_type": "execute_result"
    }
   ],
   "source": [
    "venta_premium_cols"
   ]
  },
  {
   "cell_type": "code",
   "execution_count": 99,
   "metadata": {},
   "outputs": [],
   "source": [
    "df_prom_venta = venta[ventas_cols]\n",
    "df_prom_venta_premium = venta_premium[venta_premium_cols]\n",
    "df_prom_venta_premium = pd.concat([df_brecha,df_prom_venta_premium])"
   ]
  },
  {
   "cell_type": "code",
   "execution_count": 104,
   "metadata": {},
   "outputs": [
    {
     "data": {
      "text/html": [
       "<div>\n",
       "<style scoped>\n",
       "    .dataframe tbody tr th:only-of-type {\n",
       "        vertical-align: middle;\n",
       "    }\n",
       "\n",
       "    .dataframe tbody tr th {\n",
       "        vertical-align: top;\n",
       "    }\n",
       "\n",
       "    .dataframe thead th {\n",
       "        text-align: right;\n",
       "    }\n",
       "</style>\n",
       "<table border=\"1\" class=\"dataframe\">\n",
       "  <thead>\n",
       "    <tr style=\"text-align: right;\">\n",
       "      <th></th>\n",
       "      <th>Último Eslabón</th>\n",
       "      <th>Nombre Sector</th>\n",
       "      <th>2024-08-01 00:00:00</th>\n",
       "      <th>2024-09-01 00:00:00</th>\n",
       "      <th>2024-10-01 00:00:00</th>\n",
       "    </tr>\n",
       "  </thead>\n",
       "  <tbody>\n",
       "    <tr>\n",
       "      <th>0</th>\n",
       "      <td>8201356700</td>\n",
       "      <td>AXS</td>\n",
       "      <td>0</td>\n",
       "      <td>0</td>\n",
       "      <td>1</td>\n",
       "    </tr>\n",
       "    <tr>\n",
       "      <th>1</th>\n",
       "      <td>73821M68P005PK</td>\n",
       "      <td>AXS</td>\n",
       "      <td>3</td>\n",
       "      <td>3</td>\n",
       "      <td>1</td>\n",
       "    </tr>\n",
       "    <tr>\n",
       "      <th>2</th>\n",
       "      <td>A04PZD-M1</td>\n",
       "      <td>AXS</td>\n",
       "      <td>2</td>\n",
       "      <td>0</td>\n",
       "      <td>1</td>\n",
       "    </tr>\n",
       "    <tr>\n",
       "      <th>3</th>\n",
       "      <td>CAJAMNBO320L</td>\n",
       "      <td>AXS</td>\n",
       "      <td>0</td>\n",
       "      <td>0</td>\n",
       "      <td>0</td>\n",
       "    </tr>\n",
       "    <tr>\n",
       "      <th>4</th>\n",
       "      <td>ET-442</td>\n",
       "      <td>AXS</td>\n",
       "      <td>0</td>\n",
       "      <td>0</td>\n",
       "      <td>0</td>\n",
       "    </tr>\n",
       "  </tbody>\n",
       "</table>\n",
       "</div>"
      ],
      "text/plain": [
       "   Último Eslabón Nombre Sector  2024-08-01 00:00:00  2024-09-01 00:00:00  \\\n",
       "0      8201356700           AXS                    0                    0   \n",
       "1  73821M68P005PK           AXS                    3                    3   \n",
       "2       A04PZD-M1           AXS                    2                    0   \n",
       "3    CAJAMNBO320L           AXS                    0                    0   \n",
       "4          ET-442           AXS                    0                    0   \n",
       "\n",
       "   2024-10-01 00:00:00  \n",
       "0                    1  \n",
       "1                    1  \n",
       "2                    1  \n",
       "3                    0  \n",
       "4                    0  "
      ]
     },
     "execution_count": 104,
     "metadata": {},
     "output_type": "execute_result"
    }
   ],
   "source": [
    "df_prom_venta_axs.head()"
   ]
  },
  {
   "cell_type": "code",
   "execution_count": 105,
   "metadata": {},
   "outputs": [
    {
     "name": "stderr",
     "output_type": "stream",
     "text": [
      "C:\\Users\\lravlic\\AppData\\Local\\Temp\\ipykernel_36092\\1802492279.py:1: SettingWithCopyWarning: \n",
      "A value is trying to be set on a copy of a slice from a DataFrame.\n",
      "Try using .loc[row_indexer,col_indexer] = value instead\n",
      "\n",
      "See the caveats in the documentation: https://pandas.pydata.org/pandas-docs/stable/user_guide/indexing.html#returning-a-view-versus-a-copy\n",
      "  df_prom_venta['venta_mean'] =  df_prom_venta.select_dtypes(include='number').mean(axis=1)\n",
      "C:\\Users\\lravlic\\AppData\\Local\\Temp\\ipykernel_36092\\1802492279.py:3: SettingWithCopyWarning: \n",
      "A value is trying to be set on a copy of a slice from a DataFrame.\n",
      "Try using .loc[row_indexer,col_indexer] = value instead\n",
      "\n",
      "See the caveats in the documentation: https://pandas.pydata.org/pandas-docs/stable/user_guide/indexing.html#returning-a-view-versus-a-copy\n",
      "  df_prom_venta_axs['venta_mean'] =  df_prom_venta_axs.select_dtypes(include='number').mean(axis=1)\n"
     ]
    }
   ],
   "source": [
    "df_prom_venta['venta_mean'] =  df_prom_venta.select_dtypes(include='number').mean(axis=1)\n",
    "df_prom_venta_premium['venta_mean'] =  df_prom_venta_premium.select_dtypes(include='number').mean(axis=1)\n",
    "df_prom_venta_axs['venta_mean'] =  df_prom_venta_axs.select_dtypes(include='number').mean(axis=1)"
   ]
  },
  {
   "cell_type": "code",
   "execution_count": 108,
   "metadata": {},
   "outputs": [
    {
     "data": {
      "text/html": [
       "<div>\n",
       "<style scoped>\n",
       "    .dataframe tbody tr th:only-of-type {\n",
       "        vertical-align: middle;\n",
       "    }\n",
       "\n",
       "    .dataframe tbody tr th {\n",
       "        vertical-align: top;\n",
       "    }\n",
       "\n",
       "    .dataframe thead th {\n",
       "        text-align: right;\n",
       "    }\n",
       "</style>\n",
       "<table border=\"1\" class=\"dataframe\">\n",
       "  <thead>\n",
       "    <tr style=\"text-align: right;\">\n",
       "      <th></th>\n",
       "      <th>Último Eslabón</th>\n",
       "      <th>Nombre Sector MU</th>\n",
       "      <th>Suma de sept-24</th>\n",
       "      <th>Suma de oct-24</th>\n",
       "      <th>Suma de nov-24</th>\n",
       "      <th>venta_mean</th>\n",
       "    </tr>\n",
       "  </thead>\n",
       "  <tbody>\n",
       "    <tr>\n",
       "      <th>0</th>\n",
       "      <td>0000000190-OP1</td>\n",
       "      <td>Renault</td>\n",
       "      <td>0</td>\n",
       "      <td>0</td>\n",
       "      <td>0</td>\n",
       "      <td>0.0</td>\n",
       "    </tr>\n",
       "    <tr>\n",
       "      <th>1</th>\n",
       "      <td>0000000244</td>\n",
       "      <td>Renault</td>\n",
       "      <td>0</td>\n",
       "      <td>0</td>\n",
       "      <td>0</td>\n",
       "      <td>0.0</td>\n",
       "    </tr>\n",
       "    <tr>\n",
       "      <th>2</th>\n",
       "      <td>0000101800</td>\n",
       "      <td>Renault</td>\n",
       "      <td>0</td>\n",
       "      <td>0</td>\n",
       "      <td>0</td>\n",
       "      <td>0.0</td>\n",
       "    </tr>\n",
       "    <tr>\n",
       "      <th>3</th>\n",
       "      <td>0000105400</td>\n",
       "      <td>Renault</td>\n",
       "      <td>0</td>\n",
       "      <td>0</td>\n",
       "      <td>0</td>\n",
       "      <td>0.0</td>\n",
       "    </tr>\n",
       "    <tr>\n",
       "      <th>4</th>\n",
       "      <td>0000132900</td>\n",
       "      <td>Renault</td>\n",
       "      <td>0</td>\n",
       "      <td>0</td>\n",
       "      <td>0</td>\n",
       "      <td>0.0</td>\n",
       "    </tr>\n",
       "  </tbody>\n",
       "</table>\n",
       "</div>"
      ],
      "text/plain": [
       "   Último Eslabón Nombre Sector MU  Suma de sept-24  Suma de oct-24  \\\n",
       "0  0000000190-OP1          Renault                0               0   \n",
       "1      0000000244          Renault                0               0   \n",
       "2      0000101800          Renault                0               0   \n",
       "3      0000105400          Renault                0               0   \n",
       "4      0000132900          Renault                0               0   \n",
       "\n",
       "   Suma de nov-24  venta_mean  \n",
       "0               0         0.0  \n",
       "1               0         0.0  \n",
       "2               0         0.0  \n",
       "3               0         0.0  \n",
       "4               0         0.0  "
      ]
     },
     "execution_count": 108,
     "metadata": {},
     "output_type": "execute_result"
    }
   ],
   "source": [
    "df_prom_venta.head()"
   ]
  },
  {
   "cell_type": "code",
   "execution_count": 109,
   "metadata": {},
   "outputs": [],
   "source": [
    "df_fc_prom= df_fc_prom[['Último Eslabón y Material SAP','Marca', 'fc_mean']]\n",
    "df_fc_prom_premium= df_fc_prom_premium[['Último Eslabón y Material SAP','Marca', 'fc_mean']]\n",
    "df_fc_prom_axs= df_fc_prom_axs[['Último Eslabón y Material SAP','Marca', 'fc_mean']]\n",
    "df_fc_prom_consolidado = pd.concat([df_fc_prom,df_fc_prom_premium,df_fc_prom_axs])"
   ]
  },
  {
   "cell_type": "code",
   "execution_count": 110,
   "metadata": {},
   "outputs": [
    {
     "data": {
      "text/html": [
       "<div>\n",
       "<style scoped>\n",
       "    .dataframe tbody tr th:only-of-type {\n",
       "        vertical-align: middle;\n",
       "    }\n",
       "\n",
       "    .dataframe tbody tr th {\n",
       "        vertical-align: top;\n",
       "    }\n",
       "\n",
       "    .dataframe thead th {\n",
       "        text-align: right;\n",
       "    }\n",
       "</style>\n",
       "<table border=\"1\" class=\"dataframe\">\n",
       "  <thead>\n",
       "    <tr style=\"text-align: right;\">\n",
       "      <th></th>\n",
       "      <th>Último Eslabón y Material SAP</th>\n",
       "      <th>Marca</th>\n",
       "      <th>fc_mean</th>\n",
       "    </tr>\n",
       "  </thead>\n",
       "  <tbody>\n",
       "    <tr>\n",
       "      <th>0</th>\n",
       "      <td>015001035A000</td>\n",
       "      <td>Suzuki</td>\n",
       "      <td>0.000000</td>\n",
       "    </tr>\n",
       "    <tr>\n",
       "      <th>1</th>\n",
       "      <td>015500612A000</td>\n",
       "      <td>Suzuki</td>\n",
       "      <td>0.000000</td>\n",
       "    </tr>\n",
       "    <tr>\n",
       "      <th>2</th>\n",
       "      <td>015500620B000</td>\n",
       "      <td>Suzuki</td>\n",
       "      <td>0.000000</td>\n",
       "    </tr>\n",
       "    <tr>\n",
       "      <th>3</th>\n",
       "      <td>015500685A000</td>\n",
       "      <td>Suzuki</td>\n",
       "      <td>0.000000</td>\n",
       "    </tr>\n",
       "    <tr>\n",
       "      <th>4</th>\n",
       "      <td>015500840A000</td>\n",
       "      <td>Suzuki</td>\n",
       "      <td>0.000000</td>\n",
       "    </tr>\n",
       "    <tr>\n",
       "      <th>...</th>\n",
       "      <td>...</td>\n",
       "      <td>...</td>\n",
       "      <td>...</td>\n",
       "    </tr>\n",
       "    <tr>\n",
       "      <th>1156</th>\n",
       "      <td>7717079987</td>\n",
       "      <td>NaN</td>\n",
       "      <td>0.000000</td>\n",
       "    </tr>\n",
       "    <tr>\n",
       "      <th>1157</th>\n",
       "      <td>7717079985</td>\n",
       "      <td>NaN</td>\n",
       "      <td>0.000000</td>\n",
       "    </tr>\n",
       "    <tr>\n",
       "      <th>1158</th>\n",
       "      <td>TRUNKLOCKGWMPOER</td>\n",
       "      <td>NaN</td>\n",
       "      <td>6.666667</td>\n",
       "    </tr>\n",
       "    <tr>\n",
       "      <th>1159</th>\n",
       "      <td>BSN-PCD2-003</td>\n",
       "      <td>NaN</td>\n",
       "      <td>3.333333</td>\n",
       "    </tr>\n",
       "    <tr>\n",
       "      <th>1160</th>\n",
       "      <td>Grand Total</td>\n",
       "      <td>NaN</td>\n",
       "      <td>25277.194444</td>\n",
       "    </tr>\n",
       "  </tbody>\n",
       "</table>\n",
       "<p>316370 rows × 3 columns</p>\n",
       "</div>"
      ],
      "text/plain": [
       "     Último Eslabón y Material SAP   Marca       fc_mean\n",
       "0                    015001035A000  Suzuki      0.000000\n",
       "1                    015500612A000  Suzuki      0.000000\n",
       "2                    015500620B000  Suzuki      0.000000\n",
       "3                    015500685A000  Suzuki      0.000000\n",
       "4                    015500840A000  Suzuki      0.000000\n",
       "...                            ...     ...           ...\n",
       "1156                    7717079987     NaN      0.000000\n",
       "1157                    7717079985     NaN      0.000000\n",
       "1158              TRUNKLOCKGWMPOER     NaN      6.666667\n",
       "1159                  BSN-PCD2-003     NaN      3.333333\n",
       "1160                   Grand Total     NaN  25277.194444\n",
       "\n",
       "[316370 rows x 3 columns]"
      ]
     },
     "execution_count": 110,
     "metadata": {},
     "output_type": "execute_result"
    }
   ],
   "source": [
    "df_fc_prom_consolidado"
   ]
  },
  {
   "cell_type": "code",
   "execution_count": 111,
   "metadata": {},
   "outputs": [],
   "source": [
    "df_prom_venta_premium.rename(columns={'Marca':'Nombre Sector MU'}, inplace=True)"
   ]
  },
  {
   "cell_type": "code",
   "execution_count": 115,
   "metadata": {},
   "outputs": [
    {
     "name": "stderr",
     "output_type": "stream",
     "text": [
      "C:\\Users\\lravlic\\AppData\\Local\\Temp\\ipykernel_36092\\4253954018.py:1: SettingWithCopyWarning: \n",
      "A value is trying to be set on a copy of a slice from a DataFrame\n",
      "\n",
      "See the caveats in the documentation: https://pandas.pydata.org/pandas-docs/stable/user_guide/indexing.html#returning-a-view-versus-a-copy\n",
      "  df_prom_venta_axs.rename(columns = {'Nombre Sector':'Nombre Sector MU'}, inplace=True)\n"
     ]
    }
   ],
   "source": [
    "df_prom_venta_axs.rename(columns = {'Nombre Sector':'Nombre Sector MU'}, inplace=True)"
   ]
  },
  {
   "cell_type": "code",
   "execution_count": 116,
   "metadata": {},
   "outputs": [],
   "source": [
    "df_prom_venta = df_prom_venta[['Último Eslabón','Nombre Sector MU','venta_mean']]\n",
    "df_prom_venta_premium = df_prom_venta_premium[['Último Eslabón','Nombre Sector MU','venta_mean']]\n",
    "df_prom_venta_axs = df_prom_venta_axs[['Último Eslabón','Nombre Sector MU','venta_mean']]\n",
    "df_prom_venta_consolidado = pd.concat([df_prom_venta,df_prom_venta_premium,df_prom_venta_axs])"
   ]
  },
  {
   "cell_type": "code",
   "execution_count": 118,
   "metadata": {},
   "outputs": [
    {
     "data": {
      "text/plain": [
       "Nombre Sector MU\n",
       "Subaru          42681\n",
       "BMW             40969\n",
       "Volvo           32155\n",
       "Porsche         28266\n",
       "Land Rover      24528\n",
       "Suzuki          19034\n",
       "Mazda           16857\n",
       "BMW Motorrad    13398\n",
       "Renault         12571\n",
       "Jaguar          10730\n",
       "Great Wall      10312\n",
       "DFSK             9397\n",
       "JAC Cars         9361\n",
       "Changan          7815\n",
       "Geely            5338\n",
       "Mini             4720\n",
       "AXS              1141\n",
       "Nacional WBM      540\n",
       "Name: count, dtype: int64"
      ]
     },
     "execution_count": 118,
     "metadata": {},
     "output_type": "execute_result"
    }
   ],
   "source": [
    "df_prom_venta_consolidado['Nombre Sector MU'].value_counts()"
   ]
  },
  {
   "cell_type": "markdown",
   "metadata": {},
   "source": [
    "venta promedio lista '\\n'\n",
    "fc promedio listo\n",
    "determinar \"apostrofe\" y poner apostrofe en codigo de material (condicional)\n",
    "consolidar mara"
   ]
  },
  {
   "cell_type": "code",
   "execution_count": 119,
   "metadata": {},
   "outputs": [],
   "source": [
    "import tkinter as tk\n",
    "from tkinter import ttk\n",
    "from tkcalendar import Calendar\n",
    "from datetime import datetime, timedelta\n",
    "import pandas as pd\n",
    "\n",
    "# DataFrame base (reemplaza 'df_fc_prom' con tu DataFrame completo)\n",
    "\n",
    "dfs = []\n",
    "df_consolidado = pd.DataFrame()  # Definir df_consolidado globalmente\n",
    "dfs_venta = []\n",
    "def seleccionar_fecha():\n",
    "    def obtener_fecha():\n",
    "        global df_consolidado , df_consolidado_venta # Declarar que usamos la variable global\n",
    "\n",
    "        # Convertimos la fecha seleccionada a un objeto datetime\n",
    "        fecha_seleccionada = datetime.strptime(cal.get_date(), '%m/%d/%y')\n",
    "        ventana_cal.destroy()  # Cierra la ventana del calendario\n",
    "\n",
    "        # Obtenemos el año y mes de la fecha seleccionada\n",
    "        mes_inicial = fecha_seleccionada.month\n",
    "\n",
    "        # Iniciamos el loop con la fecha seleccionada y continuamos hasta que cambie de mes\n",
    "        fecha_actual = fecha_seleccionada\n",
    "        while fecha_actual.month == mes_inicial:\n",
    "            # Crear una copia completa de df_fc_prom y agregar la fecha\n",
    "            df2 = df_prom_venta_consolidado.copy()\n",
    "            df = df_fc_prom_consolidado.copy()\n",
    "            df['Fecha'] = fecha_actual  # Asigna la misma fecha a todas las filas de este DataFrame\n",
    "            df2['Fecha'] = fecha_actual\n",
    "            # Agregar el DataFrame al listado de dfs\n",
    "            dfs.append(df)\n",
    "            dfs_venta.append(df2)\n",
    "\n",
    "            # Incrementar la fecha en 7 días\n",
    "            fecha_actual += timedelta(days=7)\n",
    "\n",
    "        # Concatenar todos los DataFrames de dfs en un único DataFrame\n",
    "        df_consolidado = pd.concat(dfs, ignore_index=True)\n",
    "        df_consolidado_venta = pd.concat(dfs_venta, ignore_index=True)\n",
    "\n",
    "\n",
    "    # Crear ventana de selección de fecha\n",
    "    ventana_cal = tk.Tk()\n",
    "    ventana_cal.title(\"Seleccionar Fecha de Inicio\")\n",
    "\n",
    "    cal = Calendar(ventana_cal, selectmode='day')\n",
    "    cal.pack(pady=20)\n",
    "\n",
    "    # Botón para confirmar selección\n",
    "    ttk.Button(ventana_cal, text=\"Seleccionar\", command=obtener_fecha).pack(pady=10)\n",
    "\n",
    "    ventana_cal.mainloop()\n",
    "\n",
    "# Llamamos a la función para abrir el selector de fecha\n",
    "seleccionar_fecha()\n",
    "\n",
    "\n",
    "\n",
    "\n",
    "\n"
   ]
  },
  {
   "cell_type": "code",
   "execution_count": 120,
   "metadata": {},
   "outputs": [
    {
     "data": {
      "text/plain": [
       "Nombre Sector MU\n",
       "AXS        1141\n",
       "Renault       1\n",
       "Name: count, dtype: int64"
      ]
     },
     "execution_count": 120,
     "metadata": {},
     "output_type": "execute_result"
    }
   ],
   "source": [
    "df_prom_venta_axs['Nombre Sector MU'].value_counts()"
   ]
  },
  {
   "cell_type": "code",
   "execution_count": 121,
   "metadata": {},
   "outputs": [
    {
     "name": "stdout",
     "output_type": "stream",
     "text": [
      "             Último Eslabón Nombre Sector MU    venta_mean      Fecha  \\\n",
      "0            0000000190-OP1          Renault      0.000000 2024-12-02   \n",
      "1                0000000244          Renault      0.000000 2024-12-02   \n",
      "2                0000101800          Renault      0.000000 2024-12-02   \n",
      "3                0000105400          Renault      0.000000 2024-12-02   \n",
      "4                0000132900          Renault      0.000000 2024-12-02   \n",
      "...                     ...              ...           ...        ...   \n",
      "1449075       990H0990BD015              AXS      0.333333 2024-12-30   \n",
      "1449076          8201681612              AXS      0.333333 2024-12-30   \n",
      "1449077               37005              AXS      0.333333 2024-12-30   \n",
      "1449078  PISOSGOMAJIMNY5PAT              AXS      6.666667 2024-12-30   \n",
      "1449079                 NaN              NaN  32525.000000 2024-12-30   \n",
      "\n",
      "              Tipo  \n",
      "0        OEM Derco  \n",
      "1        OEM Derco  \n",
      "2        OEM Derco  \n",
      "3        OEM Derco  \n",
      "4        OEM Derco  \n",
      "...            ...  \n",
      "1449075  OEM Derco  \n",
      "1449076  OEM Derco  \n",
      "1449077  OEM Derco  \n",
      "1449078  OEM Derco  \n",
      "1449079  OEM Derco  \n",
      "\n",
      "[1449080 rows x 5 columns]\n"
     ]
    }
   ],
   "source": [
    "# Sample DataFrame\n",
    "import numpy as np\n",
    "\n",
    "# Assign values to a new column based on multiple conditions\n",
    "df_consolidado_venta['Tipo'] = np.select(\n",
    "    [\n",
    "        df_consolidado_venta['Nombre Sector MU'].isin(['Nacional WBM', 'Mini', 'BMW Motorrad', 'Jaguar', 'Land Rover', 'BMW', 'Porsche', 'Volvo']),\n",
    "        df_consolidado_venta['Nombre Sector MU'].isin(['Subaru', 'GEELY', 'DFSK'])\n",
    "    ],\n",
    "    [\n",
    "        'OEM Premium',  # Value if condition for OEM Premium is True\n",
    "        'OEM Inchcape'  # Value if condition for OEM Inchcape is True\n",
    "    ],\n",
    "    default='OEM Derco'  # Value if none of the conditions are True\n",
    ")\n",
    "\n",
    "print(df_consolidado_venta)\n",
    "\n"
   ]
  },
  {
   "cell_type": "code",
   "execution_count": 122,
   "metadata": {},
   "outputs": [
    {
     "name": "stdout",
     "output_type": "stream",
     "text": [
      "        Último Eslabón y Material SAP   Marca       fc_mean      Fecha  \\\n",
      "0                       015001035A000  Suzuki      0.000000 2024-12-02   \n",
      "1                       015500612A000  Suzuki      0.000000 2024-12-02   \n",
      "2                       015500620B000  Suzuki      0.000000 2024-12-02   \n",
      "3                       015500685A000  Suzuki      0.000000 2024-12-02   \n",
      "4                       015500840A000  Suzuki      0.000000 2024-12-02   \n",
      "...                               ...     ...           ...        ...   \n",
      "1581845                    7717079987     NaN      0.000000 2024-12-30   \n",
      "1581846                    7717079985     NaN      0.000000 2024-12-30   \n",
      "1581847              TRUNKLOCKGWMPOER     NaN      6.666667 2024-12-30   \n",
      "1581848                  BSN-PCD2-003     NaN      3.333333 2024-12-30   \n",
      "1581849                   Grand Total     NaN  25277.194444 2024-12-30   \n",
      "\n",
      "              Tipo  \n",
      "0        OEM Derco  \n",
      "1        OEM Derco  \n",
      "2        OEM Derco  \n",
      "3        OEM Derco  \n",
      "4        OEM Derco  \n",
      "...            ...  \n",
      "1581845  OEM Derco  \n",
      "1581846  OEM Derco  \n",
      "1581847  OEM Derco  \n",
      "1581848  OEM Derco  \n",
      "1581849  OEM Derco  \n",
      "\n",
      "[1581850 rows x 5 columns]\n"
     ]
    }
   ],
   "source": [
    "# Sample DataFrame\n",
    "import numpy as np\n",
    "\n",
    "# Assign values to a new column based on multiple conditions\n",
    "df_consolidado['Tipo'] = np.select(\n",
    "    [\n",
    "        df_consolidado['Marca'].isin(['Nacional WBM', 'Mini', 'BMW Motorrad', 'Jaguar', 'Land Rover', 'BMW', 'Porsche', 'Volvo']),\n",
    "        df_consolidado['Marca'].isin(['Subaru', 'GEELY', 'DFSK'])\n",
    "    ],\n",
    "    [\n",
    "        'OEM Premium',  # Value if condition for OEM Premium is True\n",
    "        'OEM Inchcape'  # Value if condition for OEM Inchcape is True\n",
    "    ],\n",
    "    default='OEM Derco'  # Value if none of the conditions are True\n",
    ")\n",
    "\n",
    "print(df_consolidado)\n"
   ]
  },
  {
   "cell_type": "code",
   "execution_count": 123,
   "metadata": {},
   "outputs": [],
   "source": [
    "df_consolidado_venta['Último Eslabón'] = df_consolidado_venta['Último Eslabón'].astype('str')"
   ]
  },
  {
   "cell_type": "code",
   "execution_count": 124,
   "metadata": {},
   "outputs": [
    {
     "data": {
      "text/plain": [
       "(1143, 102)"
      ]
     },
     "execution_count": 124,
     "metadata": {},
     "output_type": "execute_result"
    }
   ],
   "source": [
    "venta_axs.shape"
   ]
  },
  {
   "cell_type": "code",
   "execution_count": 125,
   "metadata": {},
   "outputs": [],
   "source": [
    "def append_material_venta(row):\n",
    "    if row['Tipo'] == 'OEM Inchcape':\n",
    "        return row['Último Eslabón'] + 'INP300'\n",
    "    elif row['Tipo'] == 'OEM Derco':\n",
    "        return row['Último Eslabón'] + 'R3'\n",
    "    else:\n",
    "        return row['Último Eslabón']\n",
    "\n",
    "# Apply the function to modify the column\n",
    "df_consolidado_venta['Último Eslabón'] = df_consolidado_venta.apply(append_material_venta, axis=1)"
   ]
  },
  {
   "cell_type": "code",
   "execution_count": 126,
   "metadata": {},
   "outputs": [],
   "source": [
    "df_consolidado['Último Eslabón y Material SAP'] = df_consolidado['Último Eslabón y Material SAP'].astype('str')"
   ]
  },
  {
   "cell_type": "code",
   "execution_count": 127,
   "metadata": {},
   "outputs": [],
   "source": [
    "def append_material(row):\n",
    "    if row['Tipo'] == 'OEM Inchcape':\n",
    "        return row['Último Eslabón y Material SAP'] + 'INP300'\n",
    "    elif row['Tipo'] == 'OEM Derco':\n",
    "        return row['Último Eslabón y Material SAP'] + 'R3'\n",
    "    else:\n",
    "        return row['Último Eslabón y Material SAP']\n",
    "\n",
    "# Apply the function to modify the column\n",
    "df_consolidado['Último Eslabón y Material SAP'] = df_consolidado.apply(append_material, axis=1)"
   ]
  },
  {
   "cell_type": "code",
   "execution_count": 128,
   "metadata": {},
   "outputs": [
    {
     "data": {
      "text/plain": [
       "Fecha\n",
       "2024-12-02    289816\n",
       "2024-12-09    289816\n",
       "2024-12-16    289816\n",
       "2024-12-23    289816\n",
       "2024-12-30    289816\n",
       "Name: count, dtype: int64"
      ]
     },
     "execution_count": 128,
     "metadata": {},
     "output_type": "execute_result"
    }
   ],
   "source": [
    "df_consolidado_venta['Fecha'].value_counts()"
   ]
  },
  {
   "cell_type": "code",
   "execution_count": 129,
   "metadata": {},
   "outputs": [],
   "source": [
    "df_consolidado.to_csv('consolidado_fc_dic.csv')\n",
    "df_consolidado_venta.to_csv('consolidado_ventas_dic.csv')"
   ]
  },
  {
   "cell_type": "code",
   "execution_count": 129,
   "metadata": {},
   "outputs": [],
   "source": [
    "prueba=pd.read_csv('consolidado_fc_nov.csv')"
   ]
  },
  {
   "cell_type": "code",
   "execution_count": 130,
   "metadata": {},
   "outputs": [
    {
     "data": {
      "text/plain": [
       "Marca\n",
       "Suzuki          182724\n",
       "Mazda           182048\n",
       "Subaru          170644\n",
       "BMW             161768\n",
       "Renault         137888\n",
       "Volvo           128336\n",
       "Porsche         111940\n",
       "Land Rover       97672\n",
       "Great Wall       90112\n",
       "Jac Cars         76484\n",
       "Changan          67028\n",
       "BMW Motorrad     52896\n",
       "Jaguar           42632\n",
       "DFSK             37576\n",
       "Geely            21352\n",
       "Mini             18796\n",
       "Nacional WBM      2132\n",
       "Name: count, dtype: int64"
      ]
     },
     "execution_count": 130,
     "metadata": {},
     "output_type": "execute_result"
    }
   ],
   "source": [
    "prueba['Marca'].value_counts()"
   ]
  },
  {
   "cell_type": "code",
   "execution_count": 132,
   "metadata": {},
   "outputs": [
    {
     "data": {
      "text/html": [
       "<div>\n",
       "<style scoped>\n",
       "    .dataframe tbody tr th:only-of-type {\n",
       "        vertical-align: middle;\n",
       "    }\n",
       "\n",
       "    .dataframe tbody tr th {\n",
       "        vertical-align: top;\n",
       "    }\n",
       "\n",
       "    .dataframe thead th {\n",
       "        text-align: right;\n",
       "    }\n",
       "</style>\n",
       "<table border=\"1\" class=\"dataframe\">\n",
       "  <thead>\n",
       "    <tr style=\"text-align: right;\">\n",
       "      <th></th>\n",
       "      <th>Último Eslabón y Material SAP</th>\n",
       "      <th>Marca</th>\n",
       "      <th>fc_mean</th>\n",
       "      <th>Fecha</th>\n",
       "      <th>Tipo</th>\n",
       "    </tr>\n",
       "  </thead>\n",
       "  <tbody>\n",
       "    <tr>\n",
       "      <th>2926</th>\n",
       "      <td>1WA014302R3</td>\n",
       "      <td>Mazda</td>\n",
       "      <td>517.583333</td>\n",
       "      <td>2024-12-02</td>\n",
       "      <td>OEM Derco</td>\n",
       "    </tr>\n",
       "    <tr>\n",
       "      <th>2929</th>\n",
       "      <td>995641400R3</td>\n",
       "      <td>Mazda</td>\n",
       "      <td>2380.400000</td>\n",
       "      <td>2024-12-02</td>\n",
       "      <td>OEM Derco</td>\n",
       "    </tr>\n",
       "    <tr>\n",
       "      <th>2931</th>\n",
       "      <td>B6Y114302AR3</td>\n",
       "      <td>Mazda</td>\n",
       "      <td>504.900000</td>\n",
       "      <td>2024-12-02</td>\n",
       "      <td>OEM Derco</td>\n",
       "    </tr>\n",
       "    <tr>\n",
       "      <th>2934</th>\n",
       "      <td>KD4561J6XR3</td>\n",
       "      <td>Mazda</td>\n",
       "      <td>483.000000</td>\n",
       "      <td>2024-12-02</td>\n",
       "      <td>OEM Derco</td>\n",
       "    </tr>\n",
       "    <tr>\n",
       "      <th>2935</th>\n",
       "      <td>PE0114302BR3</td>\n",
       "      <td>Mazda</td>\n",
       "      <td>3231.033333</td>\n",
       "      <td>2024-12-02</td>\n",
       "      <td>OEM Derco</td>\n",
       "    </tr>\n",
       "    <tr>\n",
       "      <th>...</th>\n",
       "      <td>...</td>\n",
       "      <td>...</td>\n",
       "      <td>...</td>\n",
       "      <td>...</td>\n",
       "      <td>...</td>\n",
       "    </tr>\n",
       "    <tr>\n",
       "      <th>1506899</th>\n",
       "      <td>G4YL50A11R3</td>\n",
       "      <td>Mazda</td>\n",
       "      <td>4.000000</td>\n",
       "      <td>2024-12-30</td>\n",
       "      <td>OEM Derco</td>\n",
       "    </tr>\n",
       "    <tr>\n",
       "      <th>1506901</th>\n",
       "      <td>BFYB50EK1R3</td>\n",
       "      <td>Mazda</td>\n",
       "      <td>6.666667</td>\n",
       "      <td>2024-12-30</td>\n",
       "      <td>OEM Derco</td>\n",
       "    </tr>\n",
       "    <tr>\n",
       "      <th>1506903</th>\n",
       "      <td>KSL751041DR3</td>\n",
       "      <td>Mazda</td>\n",
       "      <td>8.000000</td>\n",
       "      <td>2024-12-30</td>\n",
       "      <td>OEM Derco</td>\n",
       "    </tr>\n",
       "    <tr>\n",
       "      <th>1506904</th>\n",
       "      <td>KSL751031DR3</td>\n",
       "      <td>Mazda</td>\n",
       "      <td>10.000000</td>\n",
       "      <td>2024-12-30</td>\n",
       "      <td>OEM Derco</td>\n",
       "    </tr>\n",
       "    <tr>\n",
       "      <th>1506910</th>\n",
       "      <td>KN0W69121DR3</td>\n",
       "      <td>Mazda</td>\n",
       "      <td>0.769231</td>\n",
       "      <td>2024-12-30</td>\n",
       "      <td>OEM Derco</td>\n",
       "    </tr>\n",
       "  </tbody>\n",
       "</table>\n",
       "<p>227550 rows × 5 columns</p>\n",
       "</div>"
      ],
      "text/plain": [
       "        Último Eslabón y Material SAP  Marca      fc_mean      Fecha  \\\n",
       "2926                      1WA014302R3  Mazda   517.583333 2024-12-02   \n",
       "2929                      995641400R3  Mazda  2380.400000 2024-12-02   \n",
       "2931                     B6Y114302AR3  Mazda   504.900000 2024-12-02   \n",
       "2934                      KD4561J6XR3  Mazda   483.000000 2024-12-02   \n",
       "2935                     PE0114302BR3  Mazda  3231.033333 2024-12-02   \n",
       "...                               ...    ...          ...        ...   \n",
       "1506899                   G4YL50A11R3  Mazda     4.000000 2024-12-30   \n",
       "1506901                   BFYB50EK1R3  Mazda     6.666667 2024-12-30   \n",
       "1506903                  KSL751041DR3  Mazda     8.000000 2024-12-30   \n",
       "1506904                  KSL751031DR3  Mazda    10.000000 2024-12-30   \n",
       "1506910                  KN0W69121DR3  Mazda     0.769231 2024-12-30   \n",
       "\n",
       "              Tipo  \n",
       "2926     OEM Derco  \n",
       "2929     OEM Derco  \n",
       "2931     OEM Derco  \n",
       "2934     OEM Derco  \n",
       "2935     OEM Derco  \n",
       "...            ...  \n",
       "1506899  OEM Derco  \n",
       "1506901  OEM Derco  \n",
       "1506903  OEM Derco  \n",
       "1506904  OEM Derco  \n",
       "1506910  OEM Derco  \n",
       "\n",
       "[227550 rows x 5 columns]"
      ]
     },
     "execution_count": 132,
     "metadata": {},
     "output_type": "execute_result"
    }
   ],
   "source": [
    "df_consolidado[df_consolidado['Marca']=='Mazda']"
   ]
  },
  {
   "cell_type": "code",
   "execution_count": null,
   "metadata": {},
   "outputs": [],
   "source": []
  }
 ],
 "metadata": {
  "kernelspec": {
   "display_name": "Python 3",
   "language": "python",
   "name": "python3"
  },
  "language_info": {
   "codemirror_mode": {
    "name": "ipython",
    "version": 3
   },
   "file_extension": ".py",
   "mimetype": "text/x-python",
   "name": "python",
   "nbconvert_exporter": "python",
   "pygments_lexer": "ipython3",
   "version": "3.12.0"
  }
 },
 "nbformat": 4,
 "nbformat_minor": 2
}

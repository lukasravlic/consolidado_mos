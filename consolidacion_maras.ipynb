{
 "cells": [
  {
   "cell_type": "markdown",
   "metadata": {},
   "source": []
  },
  {
   "cell_type": "code",
   "execution_count": 1,
   "metadata": {},
   "outputs": [],
   "source": [
    "import pandas as pd\n"
   ]
  },
  {
   "cell_type": "code",
   "execution_count": 2,
   "metadata": {},
   "outputs": [
    {
     "name": "stderr",
     "output_type": "stream",
     "text": [
      "C:\\Users\\lravlic\\AppData\\Local\\Temp\\ipykernel_20344\\124897458.py:1: DtypeWarning: Columns (0,3,4,5,6,7,8,11,13,14,15,17,18,19) have mixed types. Specify dtype option on import or set low_memory=False.\n",
      "  mara_derco = pd.read_csv(\"C:/Users/lravlic/Inchcape/Planificación y Compras Chile - Documentos/Bases Indicadores en CSV 2025-03/MARA_R3.csv\", dtype={'Material_R3':'str'})\n"
     ]
    }
   ],
   "source": [
    "mara_derco = pd.read_csv(\"C:/Users/lravlic/Inchcape/Planificación y Compras Chile - Documentos/Bases Indicadores en CSV 2025-03/MARA_R3.csv\", dtype={'Material_R3':'str'})\n",
    "mara_derco['Material_R3'] = mara_derco['Material_R3'] + 'R3'"
   ]
  },
  {
   "cell_type": "code",
   "execution_count": 3,
   "metadata": {},
   "outputs": [],
   "source": [
    "excluir = [\"Subaru\", \"Repuesto Alternativo\", \"Rep.Alter.Maquinaria\", \"JCB\", \"JAC Truck\", \"DFSK\", \"Sector Comun\", \"Citroen\", \"Massey Ferguson\", \"Chevrolet\", \"Geely\", \"Landini\", \"Still\", \"Accesorios-Car Care\", \"Komatsu\", \"Claas\", \"Foton Pesados\", \"Neumáticos\", \"Valtra\", \"Implemento Agrícola\", \"Lubricantes\", \"Foton Ligeros\", \"NEUMATICOS\", \"Hangcha\", \"Europard\", \"Jacto\", \"Kverneland\", \"DS\", \"Zona Motors\", \"DFA\", \"Zongshen Motos\", \"Linde\", \"Farmtrac\", \"Baterías\", \"Kymco Motos\", \"JBC\", \"Piaggio Motos\", \"TCM\", \"SYM Motos\", \"Royal Enfield\", \"Hesston\", \"Derco Gas\", \"Stara\", \"JLG\", \"IVECO\", \"FAW\", \"Heli\", \"Yinxiang Motos\", \"Fiori\", \"Joylong\", \"Kesla\", \"Haval\", \"Repuestos Autoplanet\", \"Magni\", \"LUBRICANTES\", \"Equipo y Herramienta\", \"Haojue\", \"Otros Servicios\",\"Hafei\"]"
   ]
  },
  {
   "cell_type": "code",
   "execution_count": 4,
   "metadata": {},
   "outputs": [],
   "source": [
    "mara_derco = mara_derco[~mara_derco['Sector_dsc'].isin(excluir)]"
   ]
  },
  {
   "cell_type": "code",
   "execution_count": 5,
   "metadata": {},
   "outputs": [
    {
     "data": {
      "text/plain": [
       "Sector_dsc\n",
       "Otras Marcas           72967\n",
       "Suzuki                 70113\n",
       "Mazda                  67858\n",
       "Renault                38474\n",
       "Great Wall             29817\n",
       "JAC Cars               26355\n",
       "Changan                24111\n",
       "Suzuki Motos           21336\n",
       "Accesorios              9702\n",
       "Samsung                 5821\n",
       "Suzuki Línea Fuerza     3673\n",
       "Name: count, dtype: int64"
      ]
     },
     "execution_count": 5,
     "metadata": {},
     "output_type": "execute_result"
    }
   ],
   "source": [
    "mara_derco['Sector_dsc'].value_counts()"
   ]
  },
  {
   "cell_type": "code",
   "execution_count": 6,
   "metadata": {},
   "outputs": [],
   "source": [
    "mara_inchcape = pd.read_excel(\"C:/Users/lravlic/Inchcape/Planificación y Compras Chile - Documentos/Planificación y Compras KPI-Reportes/Gerenciamiento MOS/Data Homologación/MARA/1. MARA.xlsx\", sheet_name='Sheet1', dtype={'Material':'str'})\n",
    "\n"
   ]
  },
  {
   "cell_type": "code",
   "execution_count": 7,
   "metadata": {},
   "outputs": [
    {
     "data": {
      "text/plain": [
       "Sector MU\n",
       "1335    33375\n",
       "1305    18242\n",
       "1344     5273\n",
       "Name: count, dtype: int64"
      ]
     },
     "execution_count": 7,
     "metadata": {},
     "output_type": "execute_result"
    }
   ],
   "source": [
    "mara_inchcape['Sector MU'].value_counts()"
   ]
  },
  {
   "cell_type": "code",
   "execution_count": 8,
   "metadata": {},
   "outputs": [],
   "source": [
    "\n",
    "mara_inchcape['Marca'] = mara_inchcape['Sector MU'].apply(lambda x: 'Subaru' if x == 1335 else 'DFSK' if x == 1305 else 'Geely' if x == 1344 else 'Unknown')"
   ]
  },
  {
   "cell_type": "code",
   "execution_count": 30,
   "metadata": {},
   "outputs": [],
   "source": [
    "mara_bmw = pd.read_excel(\"C:/Users/lravlic/Inchcape/Planificación y Compras Chile - Documentos/Planificación y Compras KPI-Reportes/Gerenciamiento MOS/Data Homologación/MARA/1. MARA_BMW.xlsx\",dtype={'Sector MU':'str'} )"
   ]
  },
  {
   "cell_type": "code",
   "execution_count": 31,
   "metadata": {},
   "outputs": [
    {
     "data": {
      "text/plain": [
       "Sector MU\n",
       "72    41724\n",
       "74    13635\n",
       "73     4979\n",
       "75      554\n",
       "Name: count, dtype: int64"
      ]
     },
     "execution_count": 31,
     "metadata": {},
     "output_type": "execute_result"
    }
   ],
   "source": [
    "mara_bmw['Sector MU'].value_counts()"
   ]
  },
  {
   "cell_type": "code",
   "execution_count": 37,
   "metadata": {},
   "outputs": [
    {
     "data": {
      "text/plain": [
       "60892"
      ]
     },
     "execution_count": 37,
     "metadata": {},
     "output_type": "execute_result"
    }
   ],
   "source": [
    "41724+13635+4979+554\n"
   ]
  },
  {
   "cell_type": "code",
   "execution_count": 34,
   "metadata": {},
   "outputs": [],
   "source": [
    "\n",
    "mara_bmw['Marca'] = mara_bmw['Sector MU'].apply(lambda x: 'BMW' if x == '72' else 'Mini' if x == '73' else 'Motorrad' if x == '74' else 'Nacional BMW' if x == '75' else 'Unknown')"
   ]
  },
  {
   "cell_type": "code",
   "execution_count": 36,
   "metadata": {},
   "outputs": [
    {
     "data": {
      "application/vnd.microsoft.datawrangler.viewer.v0+json": {
       "columns": [
        {
         "name": "index",
         "rawType": "int64",
         "type": "integer"
        },
        {
         "name": "Material",
         "rawType": "object",
         "type": "unknown"
        },
        {
         "name": "Nº antiguo material",
         "rawType": "float64",
         "type": "float"
        },
        {
         "name": "Sector MU",
         "rawType": "object",
         "type": "unknown"
        },
        {
         "name": "Part Number",
         "rawType": "object",
         "type": "unknown"
        },
        {
         "name": "Marca",
         "rawType": "object",
         "type": "string"
        },
        {
         "name": "Texto breve de material",
         "rawType": "object",
         "type": "unknown"
        },
        {
         "name": "Unnamed: 6",
         "rawType": "object",
         "type": "unknown"
        }
       ],
       "conversionMethod": "pd.DataFrame",
       "ref": "4ad714c5-8c16-4a9b-a61b-4f5dffeffc48",
       "rows": [
        [
         "60892",
         null,
         null,
         null,
         null,
         "Unknown",
         null,
         null
        ],
        [
         "60893",
         null,
         null,
         null,
         null,
         "Unknown",
         null,
         null
        ],
        [
         "60894",
         null,
         null,
         null,
         null,
         "Unknown",
         null,
         null
        ],
        [
         "60895",
         null,
         null,
         null,
         null,
         "Unknown",
         null,
         null
        ],
        [
         "60896",
         null,
         null,
         null,
         null,
         "Unknown",
         null,
         null
        ],
        [
         "60897",
         null,
         null,
         null,
         null,
         "Unknown",
         null,
         null
        ],
        [
         "60898",
         null,
         null,
         null,
         null,
         "Unknown",
         null,
         null
        ],
        [
         "60899",
         null,
         null,
         null,
         null,
         "Unknown",
         null,
         null
        ],
        [
         "60900",
         null,
         null,
         null,
         null,
         "Unknown",
         null,
         null
        ],
        [
         "60901",
         null,
         null,
         null,
         null,
         "Unknown",
         null,
         null
        ],
        [
         "60902",
         null,
         null,
         null,
         null,
         "Unknown",
         null,
         null
        ],
        [
         "60903",
         null,
         null,
         null,
         null,
         "Unknown",
         null,
         null
        ],
        [
         "60904",
         null,
         null,
         null,
         null,
         "Unknown",
         null,
         null
        ],
        [
         "60905",
         null,
         null,
         null,
         null,
         "Unknown",
         null,
         null
        ],
        [
         "60906",
         null,
         null,
         null,
         null,
         "Unknown",
         null,
         null
        ],
        [
         "60907",
         null,
         null,
         null,
         null,
         "Unknown",
         null,
         null
        ],
        [
         "60908",
         null,
         null,
         null,
         null,
         "Unknown",
         null,
         null
        ],
        [
         "60909",
         null,
         null,
         null,
         null,
         "Unknown",
         null,
         null
        ],
        [
         "60910",
         null,
         null,
         null,
         null,
         "Unknown",
         null,
         null
        ],
        [
         "60911",
         null,
         null,
         null,
         null,
         "Unknown",
         null,
         null
        ],
        [
         "60912",
         null,
         null,
         null,
         null,
         "Unknown",
         null,
         null
        ],
        [
         "60913",
         null,
         null,
         null,
         null,
         "Unknown",
         null,
         null
        ],
        [
         "60914",
         null,
         null,
         null,
         null,
         "Unknown",
         null,
         null
        ],
        [
         "60915",
         null,
         null,
         null,
         null,
         "Unknown",
         null,
         null
        ],
        [
         "60916",
         null,
         null,
         null,
         null,
         "Unknown",
         null,
         null
        ],
        [
         "60917",
         null,
         null,
         null,
         null,
         "Unknown",
         null,
         null
        ],
        [
         "60918",
         null,
         null,
         null,
         null,
         "Unknown",
         null,
         null
        ],
        [
         "60919",
         null,
         null,
         null,
         null,
         "Unknown",
         null,
         null
        ],
        [
         "60920",
         null,
         null,
         null,
         null,
         "Unknown",
         null,
         null
        ],
        [
         "60921",
         null,
         null,
         null,
         null,
         "Unknown",
         null,
         null
        ],
        [
         "60922",
         null,
         null,
         null,
         null,
         "Unknown",
         null,
         null
        ],
        [
         "60923",
         null,
         null,
         null,
         null,
         "Unknown",
         null,
         null
        ],
        [
         "60924",
         null,
         null,
         null,
         null,
         "Unknown",
         null,
         null
        ],
        [
         "60925",
         null,
         null,
         null,
         null,
         "Unknown",
         null,
         null
        ],
        [
         "60926",
         null,
         null,
         null,
         null,
         "Unknown",
         null,
         null
        ],
        [
         "60927",
         null,
         null,
         null,
         null,
         "Unknown",
         null,
         null
        ],
        [
         "60928",
         null,
         null,
         null,
         null,
         "Unknown",
         null,
         null
        ],
        [
         "60929",
         null,
         null,
         null,
         null,
         "Unknown",
         null,
         null
        ],
        [
         "60930",
         null,
         null,
         null,
         null,
         "Unknown",
         null,
         null
        ],
        [
         "60931",
         null,
         null,
         null,
         null,
         "Unknown",
         null,
         null
        ],
        [
         "60932",
         null,
         null,
         null,
         null,
         "Unknown",
         null,
         null
        ],
        [
         "60933",
         null,
         null,
         null,
         null,
         "Unknown",
         null,
         null
        ],
        [
         "60934",
         null,
         null,
         null,
         null,
         "Unknown",
         null,
         null
        ],
        [
         "60935",
         null,
         null,
         null,
         null,
         "Unknown",
         null,
         null
        ],
        [
         "60936",
         null,
         null,
         null,
         null,
         "Unknown",
         null,
         null
        ],
        [
         "60937",
         null,
         null,
         null,
         null,
         "Unknown",
         null,
         null
        ],
        [
         "60938",
         null,
         null,
         null,
         null,
         "Unknown",
         null,
         null
        ],
        [
         "60939",
         null,
         null,
         null,
         null,
         "Unknown",
         null,
         null
        ],
        [
         "60940",
         null,
         null,
         null,
         null,
         "Unknown",
         null,
         null
        ],
        [
         "60941",
         null,
         null,
         null,
         null,
         "Unknown",
         null,
         null
        ]
       ],
       "shape": {
        "columns": 7,
        "rows": 243900
       }
      },
      "text/html": [
       "<div>\n",
       "<style scoped>\n",
       "    .dataframe tbody tr th:only-of-type {\n",
       "        vertical-align: middle;\n",
       "    }\n",
       "\n",
       "    .dataframe tbody tr th {\n",
       "        vertical-align: top;\n",
       "    }\n",
       "\n",
       "    .dataframe thead th {\n",
       "        text-align: right;\n",
       "    }\n",
       "</style>\n",
       "<table border=\"1\" class=\"dataframe\">\n",
       "  <thead>\n",
       "    <tr style=\"text-align: right;\">\n",
       "      <th></th>\n",
       "      <th>Material</th>\n",
       "      <th>Nº antiguo material</th>\n",
       "      <th>Sector MU</th>\n",
       "      <th>Part Number</th>\n",
       "      <th>Marca</th>\n",
       "      <th>Texto breve de material</th>\n",
       "      <th>Unnamed: 6</th>\n",
       "    </tr>\n",
       "  </thead>\n",
       "  <tbody>\n",
       "    <tr>\n",
       "      <th>60892</th>\n",
       "      <td>NaN</td>\n",
       "      <td>NaN</td>\n",
       "      <td>NaN</td>\n",
       "      <td>NaN</td>\n",
       "      <td>Unknown</td>\n",
       "      <td>NaN</td>\n",
       "      <td>NaN</td>\n",
       "    </tr>\n",
       "    <tr>\n",
       "      <th>60893</th>\n",
       "      <td>NaN</td>\n",
       "      <td>NaN</td>\n",
       "      <td>NaN</td>\n",
       "      <td>NaN</td>\n",
       "      <td>Unknown</td>\n",
       "      <td>NaN</td>\n",
       "      <td>NaN</td>\n",
       "    </tr>\n",
       "    <tr>\n",
       "      <th>60894</th>\n",
       "      <td>NaN</td>\n",
       "      <td>NaN</td>\n",
       "      <td>NaN</td>\n",
       "      <td>NaN</td>\n",
       "      <td>Unknown</td>\n",
       "      <td>NaN</td>\n",
       "      <td>NaN</td>\n",
       "    </tr>\n",
       "    <tr>\n",
       "      <th>60895</th>\n",
       "      <td>NaN</td>\n",
       "      <td>NaN</td>\n",
       "      <td>NaN</td>\n",
       "      <td>NaN</td>\n",
       "      <td>Unknown</td>\n",
       "      <td>NaN</td>\n",
       "      <td>NaN</td>\n",
       "    </tr>\n",
       "    <tr>\n",
       "      <th>60896</th>\n",
       "      <td>NaN</td>\n",
       "      <td>NaN</td>\n",
       "      <td>NaN</td>\n",
       "      <td>NaN</td>\n",
       "      <td>Unknown</td>\n",
       "      <td>NaN</td>\n",
       "      <td>NaN</td>\n",
       "    </tr>\n",
       "    <tr>\n",
       "      <th>...</th>\n",
       "      <td>...</td>\n",
       "      <td>...</td>\n",
       "      <td>...</td>\n",
       "      <td>...</td>\n",
       "      <td>...</td>\n",
       "      <td>...</td>\n",
       "      <td>...</td>\n",
       "    </tr>\n",
       "    <tr>\n",
       "      <th>304787</th>\n",
       "      <td>NaN</td>\n",
       "      <td>NaN</td>\n",
       "      <td>NaN</td>\n",
       "      <td>NaN</td>\n",
       "      <td>Unknown</td>\n",
       "      <td>NaN</td>\n",
       "      <td>NaN</td>\n",
       "    </tr>\n",
       "    <tr>\n",
       "      <th>304788</th>\n",
       "      <td>NaN</td>\n",
       "      <td>NaN</td>\n",
       "      <td>NaN</td>\n",
       "      <td>NaN</td>\n",
       "      <td>Unknown</td>\n",
       "      <td>NaN</td>\n",
       "      <td>NaN</td>\n",
       "    </tr>\n",
       "    <tr>\n",
       "      <th>304789</th>\n",
       "      <td>NaN</td>\n",
       "      <td>NaN</td>\n",
       "      <td>NaN</td>\n",
       "      <td>NaN</td>\n",
       "      <td>Unknown</td>\n",
       "      <td>NaN</td>\n",
       "      <td>NaN</td>\n",
       "    </tr>\n",
       "    <tr>\n",
       "      <th>304790</th>\n",
       "      <td>NaN</td>\n",
       "      <td>NaN</td>\n",
       "      <td>NaN</td>\n",
       "      <td>NaN</td>\n",
       "      <td>Unknown</td>\n",
       "      <td>NaN</td>\n",
       "      <td>NaN</td>\n",
       "    </tr>\n",
       "    <tr>\n",
       "      <th>304791</th>\n",
       "      <td>NaN</td>\n",
       "      <td>NaN</td>\n",
       "      <td>NaN</td>\n",
       "      <td>NaN</td>\n",
       "      <td>Unknown</td>\n",
       "      <td>NaN</td>\n",
       "      <td>*</td>\n",
       "    </tr>\n",
       "  </tbody>\n",
       "</table>\n",
       "<p>243900 rows × 7 columns</p>\n",
       "</div>"
      ],
      "text/plain": [
       "       Material  Nº antiguo material Sector MU Part Number    Marca  \\\n",
       "60892       NaN                  NaN       NaN         NaN  Unknown   \n",
       "60893       NaN                  NaN       NaN         NaN  Unknown   \n",
       "60894       NaN                  NaN       NaN         NaN  Unknown   \n",
       "60895       NaN                  NaN       NaN         NaN  Unknown   \n",
       "60896       NaN                  NaN       NaN         NaN  Unknown   \n",
       "...         ...                  ...       ...         ...      ...   \n",
       "304787      NaN                  NaN       NaN         NaN  Unknown   \n",
       "304788      NaN                  NaN       NaN         NaN  Unknown   \n",
       "304789      NaN                  NaN       NaN         NaN  Unknown   \n",
       "304790      NaN                  NaN       NaN         NaN  Unknown   \n",
       "304791      NaN                  NaN       NaN         NaN  Unknown   \n",
       "\n",
       "       Texto breve de material Unnamed: 6  \n",
       "60892                      NaN        NaN  \n",
       "60893                      NaN        NaN  \n",
       "60894                      NaN        NaN  \n",
       "60895                      NaN        NaN  \n",
       "60896                      NaN        NaN  \n",
       "...                        ...        ...  \n",
       "304787                     NaN        NaN  \n",
       "304788                     NaN        NaN  \n",
       "304789                     NaN        NaN  \n",
       "304790                     NaN        NaN  \n",
       "304791                     NaN          *  \n",
       "\n",
       "[243900 rows x 7 columns]"
      ]
     },
     "execution_count": 36,
     "metadata": {},
     "output_type": "execute_result"
    }
   ],
   "source": [
    "mara_bmw[mara_bmw['Marca']=='Unknown']"
   ]
  },
  {
   "cell_type": "code",
   "execution_count": 38,
   "metadata": {},
   "outputs": [],
   "source": [
    "mara_ditec = pd.read_excel(\"C:/Users/lravlic/Inchcape/Planificación y Compras Chile - Documentos/Planificación y Compras KPI-Reportes/Gerenciamiento MOS/Data Homologación/MARA/MARA Ditec.xlsx\",sheet_name='Hoja1')"
   ]
  },
  {
   "cell_type": "code",
   "execution_count": 39,
   "metadata": {},
   "outputs": [],
   "source": [
    "mara_derco.rename(columns={'Material_R3':'Material','Sector_dsc':'Marca'},inplace=True)"
   ]
  },
  {
   "cell_type": "code",
   "execution_count": 40,
   "metadata": {},
   "outputs": [],
   "source": [
    "mara_derco['Tipo'] = 'OEM/AXS Derco'\n",
    "mara_derco = mara_derco[['Material','Marca', 'Tipo']]\n",
    "mara_inchcape['Tipo'] = 'OEM Inchcape'\n",
    "mara_inchcape = mara_inchcape[['Material','Marca', 'Tipo']]\n",
    "mara_ditec['Tipo'] = 'OEM DITEC'\n",
    "mara_ditec = mara_ditec[['Material','Marca', 'Tipo']]\n",
    "mara_bmw['Tipo'] = 'OEM BMW'\n",
    "mara_bmw = mara_bmw[['Material','Marca', 'Tipo']]"
   ]
  },
  {
   "cell_type": "code",
   "execution_count": 41,
   "metadata": {},
   "outputs": [
    {
     "name": "stdout",
     "output_type": "stream",
     "text": [
      "['Material', 'Marca', 'Tipo']\n",
      "['Material', 'Marca', 'Tipo']\n",
      "['Material', 'Marca', 'Tipo']\n",
      "['Material', 'Marca', 'Tipo']\n"
     ]
    }
   ],
   "source": [
    "print(mara_derco.columns.to_list())\n",
    "print(mara_inchcape.columns.to_list())\n",
    "print(mara_bmw.columns.to_list())\n",
    "print(mara_ditec.columns.to_list())"
   ]
  },
  {
   "cell_type": "code",
   "execution_count": 42,
   "metadata": {},
   "outputs": [],
   "source": [
    "mara_final = pd.concat([mara_derco,mara_inchcape,mara_bmw,mara_ditec])"
   ]
  },
  {
   "cell_type": "code",
   "execution_count": 43,
   "metadata": {},
   "outputs": [
    {
     "data": {
      "application/vnd.microsoft.datawrangler.viewer.v0+json": {
       "columns": [
        {
         "name": "index",
         "rawType": "int64",
         "type": "integer"
        },
        {
         "name": "Material",
         "rawType": "object",
         "type": "string"
        },
        {
         "name": "Marca",
         "rawType": "object",
         "type": "string"
        },
        {
         "name": "Tipo",
         "rawType": "object",
         "type": "string"
        }
       ],
       "conversionMethod": "pd.DataFrame",
       "ref": "03490190-794f-415c-a826-2a1ac8e07f34",
       "rows": [
        [
         "0",
         "400004057INP300",
         "DFSK",
         "OEM Inchcape"
        ],
        [
         "1",
         "400004058INP300",
         "DFSK",
         "OEM Inchcape"
        ],
        [
         "2",
         "400004059INP300",
         "DFSK",
         "OEM Inchcape"
        ],
        [
         "3",
         "400004060INP300",
         "DFSK",
         "OEM Inchcape"
        ],
        [
         "4",
         "400004061INP300",
         "DFSK",
         "OEM Inchcape"
        ],
        [
         "5",
         "400004062INP300",
         "DFSK",
         "OEM Inchcape"
        ],
        [
         "6",
         "400004063INP300",
         "DFSK",
         "OEM Inchcape"
        ],
        [
         "7",
         "400004064INP300",
         "DFSK",
         "OEM Inchcape"
        ],
        [
         "8",
         "400004065INP300",
         "DFSK",
         "OEM Inchcape"
        ],
        [
         "9",
         "400004066INP300",
         "DFSK",
         "OEM Inchcape"
        ],
        [
         "10",
         "400004067INP300",
         "DFSK",
         "OEM Inchcape"
        ],
        [
         "11",
         "400004068INP300",
         "DFSK",
         "OEM Inchcape"
        ],
        [
         "12",
         "400004069INP300",
         "DFSK",
         "OEM Inchcape"
        ],
        [
         "13",
         "400004070INP300",
         "DFSK",
         "OEM Inchcape"
        ],
        [
         "14",
         "400004071INP300",
         "DFSK",
         "OEM Inchcape"
        ],
        [
         "15",
         "400004072INP300",
         "DFSK",
         "OEM Inchcape"
        ],
        [
         "16",
         "400004074INP300",
         "DFSK",
         "OEM Inchcape"
        ],
        [
         "17",
         "400004075INP300",
         "DFSK",
         "OEM Inchcape"
        ],
        [
         "18",
         "400004076INP300",
         "DFSK",
         "OEM Inchcape"
        ],
        [
         "19",
         "400004077INP300",
         "DFSK",
         "OEM Inchcape"
        ],
        [
         "20",
         "400004078INP300",
         "DFSK",
         "OEM Inchcape"
        ],
        [
         "21",
         "400004079INP300",
         "DFSK",
         "OEM Inchcape"
        ],
        [
         "22",
         "400004080INP300",
         "DFSK",
         "OEM Inchcape"
        ],
        [
         "23",
         "400004081INP300",
         "DFSK",
         "OEM Inchcape"
        ],
        [
         "24",
         "400004082INP300",
         "DFSK",
         "OEM Inchcape"
        ],
        [
         "25",
         "400004083INP300",
         "DFSK",
         "OEM Inchcape"
        ],
        [
         "26",
         "400004084INP300",
         "DFSK",
         "OEM Inchcape"
        ],
        [
         "27",
         "400004085INP300",
         "DFSK",
         "OEM Inchcape"
        ],
        [
         "28",
         "400004086INP300",
         "DFSK",
         "OEM Inchcape"
        ],
        [
         "29",
         "400004087INP300",
         "DFSK",
         "OEM Inchcape"
        ],
        [
         "30",
         "400004088INP300",
         "DFSK",
         "OEM Inchcape"
        ],
        [
         "31",
         "400004089INP300",
         "DFSK",
         "OEM Inchcape"
        ],
        [
         "32",
         "400004090INP300",
         "DFSK",
         "OEM Inchcape"
        ],
        [
         "33",
         "400004091INP300",
         "DFSK",
         "OEM Inchcape"
        ],
        [
         "34",
         "400004092INP300",
         "DFSK",
         "OEM Inchcape"
        ],
        [
         "35",
         "400004093INP300",
         "DFSK",
         "OEM Inchcape"
        ],
        [
         "36",
         "400004097INP300",
         "DFSK",
         "OEM Inchcape"
        ],
        [
         "37",
         "400004098INP300",
         "DFSK",
         "OEM Inchcape"
        ],
        [
         "38",
         "400004099INP300",
         "DFSK",
         "OEM Inchcape"
        ],
        [
         "39",
         "400004100INP300",
         "DFSK",
         "OEM Inchcape"
        ],
        [
         "40",
         "400004101INP300",
         "DFSK",
         "OEM Inchcape"
        ],
        [
         "41",
         "400004102INP300",
         "DFSK",
         "OEM Inchcape"
        ],
        [
         "42",
         "400004103INP300",
         "DFSK",
         "OEM Inchcape"
        ],
        [
         "43",
         "400004104INP300",
         "DFSK",
         "OEM Inchcape"
        ],
        [
         "44",
         "400004105INP300",
         "DFSK",
         "OEM Inchcape"
        ],
        [
         "45",
         "400004106INP300",
         "DFSK",
         "OEM Inchcape"
        ],
        [
         "46",
         "400004107INP300",
         "DFSK",
         "OEM Inchcape"
        ],
        [
         "47",
         "400004108INP300",
         "DFSK",
         "OEM Inchcape"
        ],
        [
         "48",
         "400004109INP300",
         "DFSK",
         "OEM Inchcape"
        ],
        [
         "49",
         "400004110INP300",
         "DFSK",
         "OEM Inchcape"
        ]
       ],
       "shape": {
        "columns": 3,
        "rows": 18242
       }
      },
      "text/html": [
       "<div>\n",
       "<style scoped>\n",
       "    .dataframe tbody tr th:only-of-type {\n",
       "        vertical-align: middle;\n",
       "    }\n",
       "\n",
       "    .dataframe tbody tr th {\n",
       "        vertical-align: top;\n",
       "    }\n",
       "\n",
       "    .dataframe thead th {\n",
       "        text-align: right;\n",
       "    }\n",
       "</style>\n",
       "<table border=\"1\" class=\"dataframe\">\n",
       "  <thead>\n",
       "    <tr style=\"text-align: right;\">\n",
       "      <th></th>\n",
       "      <th>Material</th>\n",
       "      <th>Marca</th>\n",
       "      <th>Tipo</th>\n",
       "    </tr>\n",
       "  </thead>\n",
       "  <tbody>\n",
       "    <tr>\n",
       "      <th>0</th>\n",
       "      <td>400004057INP300</td>\n",
       "      <td>DFSK</td>\n",
       "      <td>OEM Inchcape</td>\n",
       "    </tr>\n",
       "    <tr>\n",
       "      <th>1</th>\n",
       "      <td>400004058INP300</td>\n",
       "      <td>DFSK</td>\n",
       "      <td>OEM Inchcape</td>\n",
       "    </tr>\n",
       "    <tr>\n",
       "      <th>2</th>\n",
       "      <td>400004059INP300</td>\n",
       "      <td>DFSK</td>\n",
       "      <td>OEM Inchcape</td>\n",
       "    </tr>\n",
       "    <tr>\n",
       "      <th>3</th>\n",
       "      <td>400004060INP300</td>\n",
       "      <td>DFSK</td>\n",
       "      <td>OEM Inchcape</td>\n",
       "    </tr>\n",
       "    <tr>\n",
       "      <th>4</th>\n",
       "      <td>400004061INP300</td>\n",
       "      <td>DFSK</td>\n",
       "      <td>OEM Inchcape</td>\n",
       "    </tr>\n",
       "    <tr>\n",
       "      <th>...</th>\n",
       "      <td>...</td>\n",
       "      <td>...</td>\n",
       "      <td>...</td>\n",
       "    </tr>\n",
       "    <tr>\n",
       "      <th>41843</th>\n",
       "      <td>90001144INP300</td>\n",
       "      <td>DFSK</td>\n",
       "      <td>OEM Inchcape</td>\n",
       "    </tr>\n",
       "    <tr>\n",
       "      <th>41844</th>\n",
       "      <td>90001145INP300</td>\n",
       "      <td>DFSK</td>\n",
       "      <td>OEM Inchcape</td>\n",
       "    </tr>\n",
       "    <tr>\n",
       "      <th>41852</th>\n",
       "      <td>90001160INP300</td>\n",
       "      <td>DFSK</td>\n",
       "      <td>OEM Inchcape</td>\n",
       "    </tr>\n",
       "    <tr>\n",
       "      <th>41853</th>\n",
       "      <td>90001162INP300</td>\n",
       "      <td>DFSK</td>\n",
       "      <td>OEM Inchcape</td>\n",
       "    </tr>\n",
       "    <tr>\n",
       "      <th>41854</th>\n",
       "      <td>90001163INP300</td>\n",
       "      <td>DFSK</td>\n",
       "      <td>OEM Inchcape</td>\n",
       "    </tr>\n",
       "  </tbody>\n",
       "</table>\n",
       "<p>18242 rows × 3 columns</p>\n",
       "</div>"
      ],
      "text/plain": [
       "              Material Marca          Tipo\n",
       "0      400004057INP300  DFSK  OEM Inchcape\n",
       "1      400004058INP300  DFSK  OEM Inchcape\n",
       "2      400004059INP300  DFSK  OEM Inchcape\n",
       "3      400004060INP300  DFSK  OEM Inchcape\n",
       "4      400004061INP300  DFSK  OEM Inchcape\n",
       "...                ...   ...           ...\n",
       "41843   90001144INP300  DFSK  OEM Inchcape\n",
       "41844   90001145INP300  DFSK  OEM Inchcape\n",
       "41852   90001160INP300  DFSK  OEM Inchcape\n",
       "41853   90001162INP300  DFSK  OEM Inchcape\n",
       "41854   90001163INP300  DFSK  OEM Inchcape\n",
       "\n",
       "[18242 rows x 3 columns]"
      ]
     },
     "execution_count": 43,
     "metadata": {},
     "output_type": "execute_result"
    }
   ],
   "source": [
    "mara_final[mara_final['Marca']=='DFSK']"
   ]
  },
  {
   "cell_type": "code",
   "execution_count": 44,
   "metadata": {},
   "outputs": [],
   "source": [
    "mara_final.to_csv('Mara_consolidada.csv',index=False)"
   ]
  },
  {
   "cell_type": "code",
   "execution_count": null,
   "metadata": {},
   "outputs": [],
   "source": []
  }
 ],
 "metadata": {
  "kernelspec": {
   "display_name": "Python 3",
   "language": "python",
   "name": "python3"
  },
  "language_info": {
   "codemirror_mode": {
    "name": "ipython",
    "version": 3
   },
   "file_extension": ".py",
   "mimetype": "text/x-python",
   "name": "python",
   "nbconvert_exporter": "python",
   "pygments_lexer": "ipython3",
   "version": "3.12.0"
  }
 },
 "nbformat": 4,
 "nbformat_minor": 2
}
